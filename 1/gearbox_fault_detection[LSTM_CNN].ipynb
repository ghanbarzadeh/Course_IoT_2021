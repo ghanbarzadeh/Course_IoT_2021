{
  "metadata": {
    "kernelspec": {
      "language": "python",
      "display_name": "Python 3",
      "name": "python3"
    },
    "language_info": {
      "name": "python",
      "version": "3.7.12",
      "mimetype": "text/x-python",
      "codemirror_mode": {
        "name": "ipython",
        "version": 3
      },
      "pygments_lexer": "ipython3",
      "nbconvert_exporter": "python",
      "file_extension": ".py"
    },
    "colab": {
      "name": "gearbox_fault_detection[LSTM_CNN].ipynb",
      "provenance": [],
      "collapsed_sections": []
    },
    "accelerator": "GPU"
  },
  "nbformat_minor": 0,
  "nbformat": 4,
  "cells": [
    {
      "cell_type": "markdown",
      "source": [
        "# Bearing Failure Anomaly Detection"
      ],
      "metadata": {
        "id": "_Da7IEQaRjHs"
      }
    },
    {
      "cell_type": "code",
      "source": [
        "from google.colab import drive\n",
        "drive.mount('/content/drive')"
      ],
      "metadata": {
        "colab": {
          "base_uri": "https://localhost:8080/"
        },
        "id": "4Q4Wp5npSKWe",
        "outputId": "b778920e-64df-4d02-c0ee-8b135068635f"
      },
      "execution_count": null,
      "outputs": [
        {
          "output_type": "stream",
          "name": "stdout",
          "text": [
            "Drive already mounted at /content/drive; to attempt to forcibly remount, call drive.mount(\"/content/drive\", force_remount=True).\n"
          ]
        }
      ]
    },
    {
      "cell_type": "code",
      "source": [
        "import numpy as np\n",
        "import pandas as pd\n",
        "import tensorflow as tf\n",
        "pd.set_option('precision', 2)"
      ],
      "metadata": {
        "execution": {
          "iopub.status.busy": "2022-01-14T21:32:39.428041Z",
          "iopub.execute_input": "2022-01-14T21:32:39.428572Z",
          "iopub.status.idle": "2022-01-14T21:32:39.432014Z",
          "shell.execute_reply.started": "2022-01-14T21:32:39.428532Z",
          "shell.execute_reply": "2022-01-14T21:32:39.431190Z"
        },
        "trusted": true,
        "id": "ue6mOx2fRjH4"
      },
      "execution_count": null,
      "outputs": []
    },
    {
      "cell_type": "code",
      "source": [
        "%%bash\n",
        "mkdir /content/dataset\n",
        "unzip /content/drive/MyDrive/gearbox_dataset.zip -d /content/dataset"
      ],
      "metadata": {
        "id": "GMHwZVrZ9WU1",
        "colab": {
          "base_uri": "https://localhost:8080/"
        },
        "outputId": "ba606bbf-f891-422d-f74a-ead20aafae4b"
      },
      "execution_count": null,
      "outputs": [
        {
          "output_type": "stream",
          "name": "stdout",
          "text": [
            "Archive:  /content/drive/MyDrive/gearbox_dataset.zip\n"
          ]
        },
        {
          "output_type": "stream",
          "name": "stderr",
          "text": [
            "mkdir: cannot create directory ‘/content/dataset’: File exists\n",
            "replace /content/dataset/BrokenTooth/b30hz0.csv? [y]es, [n]o, [A]ll, [N]one, [r]ename:  NULL\n",
            "(EOF or read error, treating as \"[N]one\" ...)\n"
          ]
        }
      ]
    },
    {
      "cell_type": "code",
      "source": [
        "h30hz0  = pd.read_csv(\"/content/dataset/Healthy/h30hz0.csv\")\n",
        "h30hz10 = pd.read_csv(\"/content/dataset/Healthy/h30hz10.csv\")\n",
        "h30hz20 = pd.read_csv(\"/content/dataset/Healthy/h30hz20.csv\")\n",
        "h30hz30 = pd.read_csv(\"/content/dataset/Healthy/h30hz30.csv\")\n",
        "h30hz40 = pd.read_csv(\"/content/dataset/Healthy/h30hz40.csv\")\n",
        "h30hz50 = pd.read_csv(\"/content/dataset/Healthy/h30hz50.csv\")\n",
        "h30hz60 = pd.read_csv(\"/content/dataset/Healthy/h30hz60.csv\")\n",
        "h30hz70 = pd.read_csv(\"/content/dataset/Healthy/h30hz70.csv\")\n",
        "h30hz80 = pd.read_csv(\"/content/dataset/Healthy/h30hz80.csv\")\n",
        "h30hz90 = pd.read_csv(\"/content/dataset/Healthy/h30hz90.csv\")"
      ],
      "metadata": {
        "execution": {
          "iopub.status.busy": "2022-01-14T21:32:41.206157Z",
          "iopub.execute_input": "2022-01-14T21:32:41.207453Z",
          "iopub.status.idle": "2022-01-14T21:32:42.155206Z",
          "shell.execute_reply.started": "2022-01-14T21:32:41.207406Z",
          "shell.execute_reply": "2022-01-14T21:32:42.154497Z"
        },
        "trusted": true,
        "id": "Xmb7MBfbRjH5"
      },
      "execution_count": null,
      "outputs": []
    },
    {
      "cell_type": "code",
      "source": [
        "b30hz0  = pd.read_csv(\"/content/dataset/BrokenTooth/b30hz0.csv\")\n",
        "b30hz10 = pd.read_csv(\"/content/dataset/BrokenTooth/b30hz10.csv\")\n",
        "b30hz20 = pd.read_csv(\"/content/dataset/BrokenTooth/b30hz20.csv\")\n",
        "b30hz30 = pd.read_csv(\"/content/dataset/BrokenTooth/b30hz30.csv\")\n",
        "b30hz40 = pd.read_csv(\"/content/dataset/BrokenTooth/b30hz40.csv\")\n",
        "b30hz50 = pd.read_csv(\"/content/dataset/BrokenTooth/b30hz50.csv\")\n",
        "b30hz60 = pd.read_csv(\"/content/dataset/BrokenTooth/b30hz60.csv\")\n",
        "b30hz70 = pd.read_csv(\"/content/dataset/BrokenTooth/b30hz70.csv\")\n",
        "b30hz80 = pd.read_csv(\"/content/dataset/BrokenTooth/b30hz80.csv\")\n",
        "b30hz90 = pd.read_csv(\"/content/dataset/BrokenTooth/b30hz90.csv\")"
      ],
      "metadata": {
        "execution": {
          "iopub.status.busy": "2022-01-14T21:32:43.990357Z",
          "iopub.execute_input": "2022-01-14T21:32:43.990627Z",
          "iopub.status.idle": "2022-01-14T21:32:45.016822Z",
          "shell.execute_reply.started": "2022-01-14T21:32:43.990596Z",
          "shell.execute_reply": "2022-01-14T21:32:45.016051Z"
        },
        "trusted": true,
        "id": "mj1dg_wWRjH6"
      },
      "execution_count": null,
      "outputs": []
    },
    {
      "cell_type": "code",
      "source": [
        "failure = 0\n",
        "\n",
        "load = 0\n",
        "\n",
        "h30hz0['load'] = load*np.ones((len(h30hz0.index),1))\n",
        "failureArray = np.zeros((len(h30hz0.index),1))\n",
        "h30hz0['failure'] = failureArray\n",
        "\n",
        "load = 10\n",
        "\n",
        "h30hz10['load'] = load*np.ones((len(h30hz10.index),1))\n",
        "failureArray = np.zeros((len(h30hz10.index),1))\n",
        "h30hz10['failure'] = failureArray\n",
        "\n",
        "load = 20\n",
        "\n",
        "h30hz20['load'] = load*np.ones((len(h30hz20.index),1))\n",
        "failureArray = np.zeros((len(h30hz20.index),1))\n",
        "h30hz20['failure'] = failureArray\n",
        "\n",
        "load = 30\n",
        "\n",
        "h30hz30['load'] = load*np.ones((len(h30hz30.index),1))\n",
        "failureArray = np.zeros((len(h30hz30.index),1))\n",
        "h30hz30['failure'] = failureArray\n",
        "\n",
        "load = 40\n",
        "\n",
        "h30hz40['load'] = load*np.ones((len(h30hz40.index),1))\n",
        "failureArray = np.zeros((len(h30hz40.index),1))\n",
        "h30hz40['failure'] = failureArray\n",
        "\n",
        "load = 50\n",
        "\n",
        "h30hz50['load'] = load*np.ones((len(h30hz50.index),1))\n",
        "failureArray = np.zeros((len(h30hz50.index),1))\n",
        "h30hz50['failure'] = failureArray\n",
        "\n",
        "load = 60\n",
        "\n",
        "h30hz60['load'] = load*np.ones((len(h30hz60.index),1))\n",
        "failureArray = np.zeros((len(h30hz60.index),1))\n",
        "h30hz60['failure'] = failureArray\n",
        "\n",
        "load = 70\n",
        "\n",
        "h30hz70['load'] = load*np.ones((len(h30hz70.index),1))\n",
        "failureArray = np.zeros((len(h30hz70.index),1))\n",
        "h30hz70['failure'] = failureArray\n",
        "\n",
        "load = 80\n",
        "\n",
        "h30hz80['load'] = load*np.ones((len(h30hz80.index),1))\n",
        "failureArray = np.zeros((len(h30hz80.index),1))\n",
        "h30hz80['failure'] = failureArray\n",
        "\n",
        "load = 90\n",
        "\n",
        "h30hz90['load'] = load*np.ones((len(h30hz90.index),1))\n",
        "failureArray = np.zeros((len(h30hz90.index),1))\n",
        "h30hz90['failure'] = failureArray"
      ],
      "metadata": {
        "execution": {
          "iopub.status.busy": "2022-01-14T21:32:52.019373Z",
          "iopub.execute_input": "2022-01-14T21:32:52.019643Z",
          "iopub.status.idle": "2022-01-14T21:32:52.064093Z",
          "shell.execute_reply.started": "2022-01-14T21:32:52.019612Z",
          "shell.execute_reply": "2022-01-14T21:32:52.063406Z"
        },
        "trusted": true,
        "id": "oHNJHtwCRjH7"
      },
      "execution_count": null,
      "outputs": []
    },
    {
      "cell_type": "code",
      "source": [
        "failure = 1\n",
        "\n",
        "load = 0\n",
        "\n",
        "b30hz0['load'] = load*np.ones((len(b30hz0.index),1))\n",
        "failureArray = np.ones((len(b30hz0.index),1))\n",
        "b30hz0['failure'] = failureArray\n",
        "\n",
        "load = 10 \n",
        "\n",
        "b30hz10['load'] = load*np.ones((len(b30hz10.index),1))\n",
        "failureArray = np.ones((len(b30hz10.index),1))\n",
        "b30hz10['failure'] = failureArray\n",
        "\n",
        "load = 20 \n",
        "\n",
        "b30hz20['load'] = load*np.ones((len(b30hz20.index),1))\n",
        "failureArray = np.ones((len(b30hz20.index),1))\n",
        "b30hz20['failure'] = failureArray\n",
        "\n",
        "load = 30 \n",
        "\n",
        "b30hz30['load'] = load*np.ones((len(b30hz30.index),1))\n",
        "failureArray = np.ones((len(b30hz30.index),1))\n",
        "b30hz30['failure'] = failureArray\n",
        "\n",
        "load = 40 \n",
        "\n",
        "b30hz40['load'] = load*np.ones((len(b30hz40.index),1))\n",
        "failureArray = np.ones((len(b30hz40.index),1))\n",
        "b30hz40['failure'] = failureArray\n",
        "\n",
        "load = 50 \n",
        "\n",
        "b30hz50['load'] = load*np.ones((len(b30hz50.index),1))\n",
        "failureArray = np.ones((len(b30hz50.index),1))\n",
        "b30hz50['failure'] = failureArray\n",
        "\n",
        "load = 60 \n",
        "\n",
        "b30hz60['load'] = load*np.ones((len(b30hz60.index),1))\n",
        "failureArray = np.ones((len(b30hz60.index),1))\n",
        "b30hz60['failure'] = failureArray\n",
        "\n",
        "load = 70 \n",
        "\n",
        "b30hz70['load'] = load*np.ones((len(b30hz70.index),1))\n",
        "failureArray = np.ones((len(b30hz70.index),1))\n",
        "b30hz70['failure'] = failureArray\n",
        "\n",
        "load = 80 \n",
        "\n",
        "b30hz80['load'] = load*np.ones((len(b30hz80.index),1))\n",
        "failureArray = np.ones((len(b30hz80.index),1))\n",
        "b30hz80['failure'] = failureArray\n",
        "\n",
        "load = 90 \n",
        "\n",
        "b30hz90['load'] = load*np.ones((len(b30hz90.index),1))\n",
        "failureArray = np.ones((len(b30hz90.index),1))\n",
        "b30hz90['failure'] = failureArray"
      ],
      "metadata": {
        "execution": {
          "iopub.status.busy": "2022-01-14T21:32:57.744200Z",
          "iopub.execute_input": "2022-01-14T21:32:57.744467Z",
          "iopub.status.idle": "2022-01-14T21:32:57.780894Z",
          "shell.execute_reply.started": "2022-01-14T21:32:57.744439Z",
          "shell.execute_reply": "2022-01-14T21:32:57.780258Z"
        },
        "trusted": true,
        "id": "LpUTdr19RjH9"
      },
      "execution_count": null,
      "outputs": []
    },
    {
      "cell_type": "code",
      "source": [
        "# check\n",
        "b30hz90.tail()"
      ],
      "metadata": {
        "execution": {
          "iopub.status.busy": "2022-01-14T16:42:34.102904Z",
          "iopub.execute_input": "2022-01-14T16:42:34.103666Z",
          "iopub.status.idle": "2022-01-14T16:42:34.122554Z",
          "shell.execute_reply.started": "2022-01-14T16:42:34.103618Z",
          "shell.execute_reply": "2022-01-14T16:42:34.12177Z"
        },
        "trusted": true,
        "colab": {
          "base_uri": "https://localhost:8080/",
          "height": 206
        },
        "id": "EsIpm9ZjRjH_",
        "outputId": "40e52dfb-c7aa-42ee-c87b-6703655f8747"
      },
      "execution_count": null,
      "outputs": [
        {
          "output_type": "execute_result",
          "data": {
            "text/html": [
              "\n",
              "  <div id=\"df-1299854f-8073-4db3-a37d-4988b8f4e24f\">\n",
              "    <div class=\"colab-df-container\">\n",
              "      <div>\n",
              "<style scoped>\n",
              "    .dataframe tbody tr th:only-of-type {\n",
              "        vertical-align: middle;\n",
              "    }\n",
              "\n",
              "    .dataframe tbody tr th {\n",
              "        vertical-align: top;\n",
              "    }\n",
              "\n",
              "    .dataframe thead th {\n",
              "        text-align: right;\n",
              "    }\n",
              "</style>\n",
              "<table border=\"1\" class=\"dataframe\">\n",
              "  <thead>\n",
              "    <tr style=\"text-align: right;\">\n",
              "      <th></th>\n",
              "      <th>a1</th>\n",
              "      <th>a2</th>\n",
              "      <th>a3</th>\n",
              "      <th>a4</th>\n",
              "      <th>load</th>\n",
              "      <th>failure</th>\n",
              "    </tr>\n",
              "  </thead>\n",
              "  <tbody>\n",
              "    <tr>\n",
              "      <th>105723</th>\n",
              "      <td>4.43</td>\n",
              "      <td>-2.04</td>\n",
              "      <td>-0.55</td>\n",
              "      <td>1.18</td>\n",
              "      <td>90.0</td>\n",
              "      <td>1.0</td>\n",
              "    </tr>\n",
              "    <tr>\n",
              "      <th>105724</th>\n",
              "      <td>2.90</td>\n",
              "      <td>-2.82</td>\n",
              "      <td>-2.49</td>\n",
              "      <td>0.12</td>\n",
              "      <td>90.0</td>\n",
              "      <td>1.0</td>\n",
              "    </tr>\n",
              "    <tr>\n",
              "      <th>105725</th>\n",
              "      <td>-1.62</td>\n",
              "      <td>1.28</td>\n",
              "      <td>-6.16</td>\n",
              "      <td>-1.38</td>\n",
              "      <td>90.0</td>\n",
              "      <td>1.0</td>\n",
              "    </tr>\n",
              "    <tr>\n",
              "      <th>105726</th>\n",
              "      <td>-2.01</td>\n",
              "      <td>-4.03</td>\n",
              "      <td>-0.08</td>\n",
              "      <td>0.93</td>\n",
              "      <td>90.0</td>\n",
              "      <td>1.0</td>\n",
              "    </tr>\n",
              "    <tr>\n",
              "      <th>105727</th>\n",
              "      <td>-4.44</td>\n",
              "      <td>-1.97</td>\n",
              "      <td>3.07</td>\n",
              "      <td>-3.56</td>\n",
              "      <td>90.0</td>\n",
              "      <td>1.0</td>\n",
              "    </tr>\n",
              "  </tbody>\n",
              "</table>\n",
              "</div>\n",
              "      <button class=\"colab-df-convert\" onclick=\"convertToInteractive('df-1299854f-8073-4db3-a37d-4988b8f4e24f')\"\n",
              "              title=\"Convert this dataframe to an interactive table.\"\n",
              "              style=\"display:none;\">\n",
              "        \n",
              "  <svg xmlns=\"http://www.w3.org/2000/svg\" height=\"24px\"viewBox=\"0 0 24 24\"\n",
              "       width=\"24px\">\n",
              "    <path d=\"M0 0h24v24H0V0z\" fill=\"none\"/>\n",
              "    <path d=\"M18.56 5.44l.94 2.06.94-2.06 2.06-.94-2.06-.94-.94-2.06-.94 2.06-2.06.94zm-11 1L8.5 8.5l.94-2.06 2.06-.94-2.06-.94L8.5 2.5l-.94 2.06-2.06.94zm10 10l.94 2.06.94-2.06 2.06-.94-2.06-.94-.94-2.06-.94 2.06-2.06.94z\"/><path d=\"M17.41 7.96l-1.37-1.37c-.4-.4-.92-.59-1.43-.59-.52 0-1.04.2-1.43.59L10.3 9.45l-7.72 7.72c-.78.78-.78 2.05 0 2.83L4 21.41c.39.39.9.59 1.41.59.51 0 1.02-.2 1.41-.59l7.78-7.78 2.81-2.81c.8-.78.8-2.07 0-2.86zM5.41 20L4 18.59l7.72-7.72 1.47 1.35L5.41 20z\"/>\n",
              "  </svg>\n",
              "      </button>\n",
              "      \n",
              "  <style>\n",
              "    .colab-df-container {\n",
              "      display:flex;\n",
              "      flex-wrap:wrap;\n",
              "      gap: 12px;\n",
              "    }\n",
              "\n",
              "    .colab-df-convert {\n",
              "      background-color: #E8F0FE;\n",
              "      border: none;\n",
              "      border-radius: 50%;\n",
              "      cursor: pointer;\n",
              "      display: none;\n",
              "      fill: #1967D2;\n",
              "      height: 32px;\n",
              "      padding: 0 0 0 0;\n",
              "      width: 32px;\n",
              "    }\n",
              "\n",
              "    .colab-df-convert:hover {\n",
              "      background-color: #E2EBFA;\n",
              "      box-shadow: 0px 1px 2px rgba(60, 64, 67, 0.3), 0px 1px 3px 1px rgba(60, 64, 67, 0.15);\n",
              "      fill: #174EA6;\n",
              "    }\n",
              "\n",
              "    [theme=dark] .colab-df-convert {\n",
              "      background-color: #3B4455;\n",
              "      fill: #D2E3FC;\n",
              "    }\n",
              "\n",
              "    [theme=dark] .colab-df-convert:hover {\n",
              "      background-color: #434B5C;\n",
              "      box-shadow: 0px 1px 3px 1px rgba(0, 0, 0, 0.15);\n",
              "      filter: drop-shadow(0px 1px 2px rgba(0, 0, 0, 0.3));\n",
              "      fill: #FFFFFF;\n",
              "    }\n",
              "  </style>\n",
              "\n",
              "      <script>\n",
              "        const buttonEl =\n",
              "          document.querySelector('#df-1299854f-8073-4db3-a37d-4988b8f4e24f button.colab-df-convert');\n",
              "        buttonEl.style.display =\n",
              "          google.colab.kernel.accessAllowed ? 'block' : 'none';\n",
              "\n",
              "        async function convertToInteractive(key) {\n",
              "          const element = document.querySelector('#df-1299854f-8073-4db3-a37d-4988b8f4e24f');\n",
              "          const dataTable =\n",
              "            await google.colab.kernel.invokeFunction('convertToInteractive',\n",
              "                                                     [key], {});\n",
              "          if (!dataTable) return;\n",
              "\n",
              "          const docLinkHtml = 'Like what you see? Visit the ' +\n",
              "            '<a target=\"_blank\" href=https://colab.research.google.com/notebooks/data_table.ipynb>data table notebook</a>'\n",
              "            + ' to learn more about interactive tables.';\n",
              "          element.innerHTML = '';\n",
              "          dataTable['output_type'] = 'display_data';\n",
              "          await google.colab.output.renderOutput(dataTable, element);\n",
              "          const docLink = document.createElement('div');\n",
              "          docLink.innerHTML = docLinkHtml;\n",
              "          element.appendChild(docLink);\n",
              "        }\n",
              "      </script>\n",
              "    </div>\n",
              "  </div>\n",
              "  "
            ],
            "text/plain": [
              "          a1    a2    a3    a4  load  failure\n",
              "105723  4.43 -2.04 -0.55  1.18  90.0      1.0\n",
              "105724  2.90 -2.82 -2.49  0.12  90.0      1.0\n",
              "105725 -1.62  1.28 -6.16 -1.38  90.0      1.0\n",
              "105726 -2.01 -4.03 -0.08  0.93  90.0      1.0\n",
              "105727 -4.44 -1.97  3.07 -3.56  90.0      1.0"
            ]
          },
          "metadata": {},
          "execution_count": 96
        }
      ]
    },
    {
      "cell_type": "code",
      "source": [
        "# Broken \n",
        "\n",
        "broken_df = pd.concat([b30hz0,b30hz10,b30hz20,b30hz30,b30hz40,b30hz50,b30hz60,b30hz70,b30hz80,b30hz90],axis=0,ignore_index=True)\n",
        "broken_df.describe()\n",
        "anomoly_data=broken_df[['a1','a2','a3','a4']].values"
      ],
      "metadata": {
        "execution": {
          "iopub.status.busy": "2022-01-14T21:33:03.228546Z",
          "iopub.execute_input": "2022-01-14T21:33:03.229256Z",
          "iopub.status.idle": "2022-01-14T21:33:03.254979Z",
          "shell.execute_reply.started": "2022-01-14T21:33:03.229196Z",
          "shell.execute_reply": "2022-01-14T21:33:03.254251Z"
        },
        "trusted": true,
        "id": "94axyOqERjIA"
      },
      "execution_count": null,
      "outputs": []
    },
    {
      "cell_type": "code",
      "source": [
        "# Healthy\n",
        "\n",
        "healthy_df = pd.concat([h30hz0,h30hz10,h30hz20,h30hz30,h30hz40,h30hz50,h30hz60,h30hz70,h30hz80,h30hz90],axis=0,ignore_index=True)\n",
        "healthy_df.describe()"
      ],
      "metadata": {
        "execution": {
          "iopub.status.busy": "2022-01-14T21:33:07.136613Z",
          "iopub.execute_input": "2022-01-14T21:33:07.137143Z",
          "iopub.status.idle": "2022-01-14T21:33:07.162446Z",
          "shell.execute_reply.started": "2022-01-14T21:33:07.137098Z",
          "shell.execute_reply": "2022-01-14T21:33:07.161736Z"
        },
        "trusted": true,
        "colab": {
          "base_uri": "https://localhost:8080/",
          "height": 300
        },
        "id": "qsBjYAenRjIA",
        "outputId": "449ddf81-09f9-4a67-9549-bb2e8881caff"
      },
      "execution_count": null,
      "outputs": [
        {
          "output_type": "execute_result",
          "data": {
            "text/html": [
              "\n",
              "  <div id=\"df-6addfa53-2bdf-4076-a36c-dc6e2d112278\">\n",
              "    <div class=\"colab-df-container\">\n",
              "      <div>\n",
              "<style scoped>\n",
              "    .dataframe tbody tr th:only-of-type {\n",
              "        vertical-align: middle;\n",
              "    }\n",
              "\n",
              "    .dataframe tbody tr th {\n",
              "        vertical-align: top;\n",
              "    }\n",
              "\n",
              "    .dataframe thead th {\n",
              "        text-align: right;\n",
              "    }\n",
              "</style>\n",
              "<table border=\"1\" class=\"dataframe\">\n",
              "  <thead>\n",
              "    <tr style=\"text-align: right;\">\n",
              "      <th></th>\n",
              "      <th>a1</th>\n",
              "      <th>a2</th>\n",
              "      <th>a3</th>\n",
              "      <th>a4</th>\n",
              "      <th>load</th>\n",
              "      <th>failure</th>\n",
              "    </tr>\n",
              "  </thead>\n",
              "  <tbody>\n",
              "    <tr>\n",
              "      <th>count</th>\n",
              "      <td>1.02e+06</td>\n",
              "      <td>1.02e+06</td>\n",
              "      <td>1.02e+06</td>\n",
              "      <td>1.02e+06</td>\n",
              "      <td>1.02e+06</td>\n",
              "      <td>1.02e+06</td>\n",
              "    </tr>\n",
              "    <tr>\n",
              "      <th>mean</th>\n",
              "      <td>3.70e-03</td>\n",
              "      <td>-1.20e-03</td>\n",
              "      <td>8.14e-03</td>\n",
              "      <td>-1.12e-04</td>\n",
              "      <td>4.58e+01</td>\n",
              "      <td>0.00e+00</td>\n",
              "    </tr>\n",
              "    <tr>\n",
              "      <th>std</th>\n",
              "      <td>7.38e+00</td>\n",
              "      <td>4.43e+00</td>\n",
              "      <td>4.11e+00</td>\n",
              "      <td>4.52e+00</td>\n",
              "      <td>2.83e+01</td>\n",
              "      <td>0.00e+00</td>\n",
              "    </tr>\n",
              "    <tr>\n",
              "      <th>min</th>\n",
              "      <td>-5.87e+01</td>\n",
              "      <td>-3.29e+01</td>\n",
              "      <td>-2.92e+01</td>\n",
              "      <td>-3.13e+01</td>\n",
              "      <td>0.00e+00</td>\n",
              "      <td>0.00e+00</td>\n",
              "    </tr>\n",
              "    <tr>\n",
              "      <th>25%</th>\n",
              "      <td>-3.92e+00</td>\n",
              "      <td>-2.40e+00</td>\n",
              "      <td>-2.20e+00</td>\n",
              "      <td>-2.38e+00</td>\n",
              "      <td>2.00e+01</td>\n",
              "      <td>0.00e+00</td>\n",
              "    </tr>\n",
              "    <tr>\n",
              "      <th>50%</th>\n",
              "      <td>-1.15e-01</td>\n",
              "      <td>6.16e-02</td>\n",
              "      <td>5.24e-02</td>\n",
              "      <td>1.31e-01</td>\n",
              "      <td>5.00e+01</td>\n",
              "      <td>0.00e+00</td>\n",
              "    </tr>\n",
              "    <tr>\n",
              "      <th>75%</th>\n",
              "      <td>3.79e+00</td>\n",
              "      <td>2.49e+00</td>\n",
              "      <td>2.29e+00</td>\n",
              "      <td>2.52e+00</td>\n",
              "      <td>7.00e+01</td>\n",
              "      <td>0.00e+00</td>\n",
              "    </tr>\n",
              "    <tr>\n",
              "      <th>max</th>\n",
              "      <td>5.67e+01</td>\n",
              "      <td>3.09e+01</td>\n",
              "      <td>2.51e+01</td>\n",
              "      <td>3.73e+01</td>\n",
              "      <td>9.00e+01</td>\n",
              "      <td>0.00e+00</td>\n",
              "    </tr>\n",
              "  </tbody>\n",
              "</table>\n",
              "</div>\n",
              "      <button class=\"colab-df-convert\" onclick=\"convertToInteractive('df-6addfa53-2bdf-4076-a36c-dc6e2d112278')\"\n",
              "              title=\"Convert this dataframe to an interactive table.\"\n",
              "              style=\"display:none;\">\n",
              "        \n",
              "  <svg xmlns=\"http://www.w3.org/2000/svg\" height=\"24px\"viewBox=\"0 0 24 24\"\n",
              "       width=\"24px\">\n",
              "    <path d=\"M0 0h24v24H0V0z\" fill=\"none\"/>\n",
              "    <path d=\"M18.56 5.44l.94 2.06.94-2.06 2.06-.94-2.06-.94-.94-2.06-.94 2.06-2.06.94zm-11 1L8.5 8.5l.94-2.06 2.06-.94-2.06-.94L8.5 2.5l-.94 2.06-2.06.94zm10 10l.94 2.06.94-2.06 2.06-.94-2.06-.94-.94-2.06-.94 2.06-2.06.94z\"/><path d=\"M17.41 7.96l-1.37-1.37c-.4-.4-.92-.59-1.43-.59-.52 0-1.04.2-1.43.59L10.3 9.45l-7.72 7.72c-.78.78-.78 2.05 0 2.83L4 21.41c.39.39.9.59 1.41.59.51 0 1.02-.2 1.41-.59l7.78-7.78 2.81-2.81c.8-.78.8-2.07 0-2.86zM5.41 20L4 18.59l7.72-7.72 1.47 1.35L5.41 20z\"/>\n",
              "  </svg>\n",
              "      </button>\n",
              "      \n",
              "  <style>\n",
              "    .colab-df-container {\n",
              "      display:flex;\n",
              "      flex-wrap:wrap;\n",
              "      gap: 12px;\n",
              "    }\n",
              "\n",
              "    .colab-df-convert {\n",
              "      background-color: #E8F0FE;\n",
              "      border: none;\n",
              "      border-radius: 50%;\n",
              "      cursor: pointer;\n",
              "      display: none;\n",
              "      fill: #1967D2;\n",
              "      height: 32px;\n",
              "      padding: 0 0 0 0;\n",
              "      width: 32px;\n",
              "    }\n",
              "\n",
              "    .colab-df-convert:hover {\n",
              "      background-color: #E2EBFA;\n",
              "      box-shadow: 0px 1px 2px rgba(60, 64, 67, 0.3), 0px 1px 3px 1px rgba(60, 64, 67, 0.15);\n",
              "      fill: #174EA6;\n",
              "    }\n",
              "\n",
              "    [theme=dark] .colab-df-convert {\n",
              "      background-color: #3B4455;\n",
              "      fill: #D2E3FC;\n",
              "    }\n",
              "\n",
              "    [theme=dark] .colab-df-convert:hover {\n",
              "      background-color: #434B5C;\n",
              "      box-shadow: 0px 1px 3px 1px rgba(0, 0, 0, 0.15);\n",
              "      filter: drop-shadow(0px 1px 2px rgba(0, 0, 0, 0.3));\n",
              "      fill: #FFFFFF;\n",
              "    }\n",
              "  </style>\n",
              "\n",
              "      <script>\n",
              "        const buttonEl =\n",
              "          document.querySelector('#df-6addfa53-2bdf-4076-a36c-dc6e2d112278 button.colab-df-convert');\n",
              "        buttonEl.style.display =\n",
              "          google.colab.kernel.accessAllowed ? 'block' : 'none';\n",
              "\n",
              "        async function convertToInteractive(key) {\n",
              "          const element = document.querySelector('#df-6addfa53-2bdf-4076-a36c-dc6e2d112278');\n",
              "          const dataTable =\n",
              "            await google.colab.kernel.invokeFunction('convertToInteractive',\n",
              "                                                     [key], {});\n",
              "          if (!dataTable) return;\n",
              "\n",
              "          const docLinkHtml = 'Like what you see? Visit the ' +\n",
              "            '<a target=\"_blank\" href=https://colab.research.google.com/notebooks/data_table.ipynb>data table notebook</a>'\n",
              "            + ' to learn more about interactive tables.';\n",
              "          element.innerHTML = '';\n",
              "          dataTable['output_type'] = 'display_data';\n",
              "          await google.colab.output.renderOutput(dataTable, element);\n",
              "          const docLink = document.createElement('div');\n",
              "          docLink.innerHTML = docLinkHtml;\n",
              "          element.appendChild(docLink);\n",
              "        }\n",
              "      </script>\n",
              "    </div>\n",
              "  </div>\n",
              "  "
            ],
            "text/plain": [
              "             a1        a2        a3        a4      load   failure\n",
              "count  1.02e+06  1.02e+06  1.02e+06  1.02e+06  1.02e+06  1.02e+06\n",
              "mean   3.70e-03 -1.20e-03  8.14e-03 -1.12e-04  4.58e+01  0.00e+00\n",
              "std    7.38e+00  4.43e+00  4.11e+00  4.52e+00  2.83e+01  0.00e+00\n",
              "min   -5.87e+01 -3.29e+01 -2.92e+01 -3.13e+01  0.00e+00  0.00e+00\n",
              "25%   -3.92e+00 -2.40e+00 -2.20e+00 -2.38e+00  2.00e+01  0.00e+00\n",
              "50%   -1.15e-01  6.16e-02  5.24e-02  1.31e-01  5.00e+01  0.00e+00\n",
              "75%    3.79e+00  2.49e+00  2.29e+00  2.52e+00  7.00e+01  0.00e+00\n",
              "max    5.67e+01  3.09e+01  2.51e+01  3.73e+01  9.00e+01  0.00e+00"
            ]
          },
          "metadata": {},
          "execution_count": 98
        }
      ]
    },
    {
      "cell_type": "code",
      "source": [
        "broken_health_aggregated = pd.concat([broken_df,healthy_df], axis =0)"
      ],
      "metadata": {
        "execution": {
          "iopub.status.busy": "2022-01-14T21:33:09.813700Z",
          "iopub.execute_input": "2022-01-14T21:33:09.813949Z",
          "iopub.status.idle": "2022-01-14T21:33:09.860734Z",
          "shell.execute_reply.started": "2022-01-14T21:33:09.813921Z",
          "shell.execute_reply": "2022-01-14T21:33:09.859971Z"
        },
        "trusted": true,
        "id": "StgwYXA-RjIB"
      },
      "execution_count": null,
      "outputs": []
    },
    {
      "cell_type": "code",
      "source": [
        "broken_health_aggregated.head()"
      ],
      "metadata": {
        "execution": {
          "iopub.status.busy": "2022-01-14T16:09:17.635134Z",
          "iopub.execute_input": "2022-01-14T16:09:17.635408Z",
          "iopub.status.idle": "2022-01-14T16:09:17.648129Z",
          "shell.execute_reply.started": "2022-01-14T16:09:17.635379Z",
          "shell.execute_reply": "2022-01-14T16:09:17.647219Z"
        },
        "trusted": true,
        "colab": {
          "base_uri": "https://localhost:8080/",
          "height": 206
        },
        "id": "jwAu4rg1RjIB",
        "outputId": "dfb25146-71e5-4366-8045-c7fe4daee065"
      },
      "execution_count": null,
      "outputs": [
        {
          "output_type": "execute_result",
          "data": {
            "text/html": [
              "\n",
              "  <div id=\"df-67ded982-e398-4aa6-9fc2-84dc9c4eb38a\">\n",
              "    <div class=\"colab-df-container\">\n",
              "      <div>\n",
              "<style scoped>\n",
              "    .dataframe tbody tr th:only-of-type {\n",
              "        vertical-align: middle;\n",
              "    }\n",
              "\n",
              "    .dataframe tbody tr th {\n",
              "        vertical-align: top;\n",
              "    }\n",
              "\n",
              "    .dataframe thead th {\n",
              "        text-align: right;\n",
              "    }\n",
              "</style>\n",
              "<table border=\"1\" class=\"dataframe\">\n",
              "  <thead>\n",
              "    <tr style=\"text-align: right;\">\n",
              "      <th></th>\n",
              "      <th>a1</th>\n",
              "      <th>a2</th>\n",
              "      <th>a3</th>\n",
              "      <th>a4</th>\n",
              "      <th>load</th>\n",
              "      <th>failure</th>\n",
              "    </tr>\n",
              "  </thead>\n",
              "  <tbody>\n",
              "    <tr>\n",
              "      <th>0</th>\n",
              "      <td>2.35</td>\n",
              "      <td>1.45</td>\n",
              "      <td>-1.67</td>\n",
              "      <td>-2.06</td>\n",
              "      <td>0.0</td>\n",
              "      <td>1.0</td>\n",
              "    </tr>\n",
              "    <tr>\n",
              "      <th>1</th>\n",
              "      <td>2.45</td>\n",
              "      <td>1.40</td>\n",
              "      <td>-2.83</td>\n",
              "      <td>0.98</td>\n",
              "      <td>0.0</td>\n",
              "      <td>1.0</td>\n",
              "    </tr>\n",
              "    <tr>\n",
              "      <th>2</th>\n",
              "      <td>-0.24</td>\n",
              "      <td>-0.27</td>\n",
              "      <td>0.79</td>\n",
              "      <td>0.61</td>\n",
              "      <td>0.0</td>\n",
              "      <td>1.0</td>\n",
              "    </tr>\n",
              "    <tr>\n",
              "      <th>3</th>\n",
              "      <td>1.13</td>\n",
              "      <td>-0.89</td>\n",
              "      <td>0.70</td>\n",
              "      <td>0.61</td>\n",
              "      <td>0.0</td>\n",
              "      <td>1.0</td>\n",
              "    </tr>\n",
              "    <tr>\n",
              "      <th>4</th>\n",
              "      <td>-1.30</td>\n",
              "      <td>0.98</td>\n",
              "      <td>-1.13</td>\n",
              "      <td>-0.35</td>\n",
              "      <td>0.0</td>\n",
              "      <td>1.0</td>\n",
              "    </tr>\n",
              "  </tbody>\n",
              "</table>\n",
              "</div>\n",
              "      <button class=\"colab-df-convert\" onclick=\"convertToInteractive('df-67ded982-e398-4aa6-9fc2-84dc9c4eb38a')\"\n",
              "              title=\"Convert this dataframe to an interactive table.\"\n",
              "              style=\"display:none;\">\n",
              "        \n",
              "  <svg xmlns=\"http://www.w3.org/2000/svg\" height=\"24px\"viewBox=\"0 0 24 24\"\n",
              "       width=\"24px\">\n",
              "    <path d=\"M0 0h24v24H0V0z\" fill=\"none\"/>\n",
              "    <path d=\"M18.56 5.44l.94 2.06.94-2.06 2.06-.94-2.06-.94-.94-2.06-.94 2.06-2.06.94zm-11 1L8.5 8.5l.94-2.06 2.06-.94-2.06-.94L8.5 2.5l-.94 2.06-2.06.94zm10 10l.94 2.06.94-2.06 2.06-.94-2.06-.94-.94-2.06-.94 2.06-2.06.94z\"/><path d=\"M17.41 7.96l-1.37-1.37c-.4-.4-.92-.59-1.43-.59-.52 0-1.04.2-1.43.59L10.3 9.45l-7.72 7.72c-.78.78-.78 2.05 0 2.83L4 21.41c.39.39.9.59 1.41.59.51 0 1.02-.2 1.41-.59l7.78-7.78 2.81-2.81c.8-.78.8-2.07 0-2.86zM5.41 20L4 18.59l7.72-7.72 1.47 1.35L5.41 20z\"/>\n",
              "  </svg>\n",
              "      </button>\n",
              "      \n",
              "  <style>\n",
              "    .colab-df-container {\n",
              "      display:flex;\n",
              "      flex-wrap:wrap;\n",
              "      gap: 12px;\n",
              "    }\n",
              "\n",
              "    .colab-df-convert {\n",
              "      background-color: #E8F0FE;\n",
              "      border: none;\n",
              "      border-radius: 50%;\n",
              "      cursor: pointer;\n",
              "      display: none;\n",
              "      fill: #1967D2;\n",
              "      height: 32px;\n",
              "      padding: 0 0 0 0;\n",
              "      width: 32px;\n",
              "    }\n",
              "\n",
              "    .colab-df-convert:hover {\n",
              "      background-color: #E2EBFA;\n",
              "      box-shadow: 0px 1px 2px rgba(60, 64, 67, 0.3), 0px 1px 3px 1px rgba(60, 64, 67, 0.15);\n",
              "      fill: #174EA6;\n",
              "    }\n",
              "\n",
              "    [theme=dark] .colab-df-convert {\n",
              "      background-color: #3B4455;\n",
              "      fill: #D2E3FC;\n",
              "    }\n",
              "\n",
              "    [theme=dark] .colab-df-convert:hover {\n",
              "      background-color: #434B5C;\n",
              "      box-shadow: 0px 1px 3px 1px rgba(0, 0, 0, 0.15);\n",
              "      filter: drop-shadow(0px 1px 2px rgba(0, 0, 0, 0.3));\n",
              "      fill: #FFFFFF;\n",
              "    }\n",
              "  </style>\n",
              "\n",
              "      <script>\n",
              "        const buttonEl =\n",
              "          document.querySelector('#df-67ded982-e398-4aa6-9fc2-84dc9c4eb38a button.colab-df-convert');\n",
              "        buttonEl.style.display =\n",
              "          google.colab.kernel.accessAllowed ? 'block' : 'none';\n",
              "\n",
              "        async function convertToInteractive(key) {\n",
              "          const element = document.querySelector('#df-67ded982-e398-4aa6-9fc2-84dc9c4eb38a');\n",
              "          const dataTable =\n",
              "            await google.colab.kernel.invokeFunction('convertToInteractive',\n",
              "                                                     [key], {});\n",
              "          if (!dataTable) return;\n",
              "\n",
              "          const docLinkHtml = 'Like what you see? Visit the ' +\n",
              "            '<a target=\"_blank\" href=https://colab.research.google.com/notebooks/data_table.ipynb>data table notebook</a>'\n",
              "            + ' to learn more about interactive tables.';\n",
              "          element.innerHTML = '';\n",
              "          dataTable['output_type'] = 'display_data';\n",
              "          await google.colab.output.renderOutput(dataTable, element);\n",
              "          const docLink = document.createElement('div');\n",
              "          docLink.innerHTML = docLinkHtml;\n",
              "          element.appendChild(docLink);\n",
              "        }\n",
              "      </script>\n",
              "    </div>\n",
              "  </div>\n",
              "  "
            ],
            "text/plain": [
              "     a1    a2    a3    a4  load  failure\n",
              "0  2.35  1.45 -1.67 -2.06   0.0      1.0\n",
              "1  2.45  1.40 -2.83  0.98   0.0      1.0\n",
              "2 -0.24 -0.27  0.79  0.61   0.0      1.0\n",
              "3  1.13 -0.89  0.70  0.61   0.0      1.0\n",
              "4 -1.30  0.98 -1.13 -0.35   0.0      1.0"
            ]
          },
          "metadata": {},
          "execution_count": 100
        }
      ]
    },
    {
      "cell_type": "code",
      "source": [
        "# import libraries\n",
        "import os\n",
        "import pandas as pd\n",
        "import numpy as np\n",
        "from sklearn.preprocessing import MinMaxScaler\n",
        "#from sklearn.externals import joblib\n",
        "# import seaborn as sns\n",
        "# sns.set(color_codes=True)\n",
        "import matplotlib.pyplot as plt\n",
        "%matplotlib inline\n",
        "\n",
        "\n",
        "from numpy.random import seed\n",
        "import tensorflow as tf\n",
        "from tensorflow.keras.layers import Input, Dropout, Dense, LSTM, TimeDistributed, RepeatVector\n",
        "from tensorflow.keras.models import Model\n",
        "from tensorflow.keras import regularizers"
      ],
      "metadata": {
        "execution": {
          "iopub.status.busy": "2022-01-14T21:33:20.356784Z",
          "iopub.execute_input": "2022-01-14T21:33:20.357043Z",
          "iopub.status.idle": "2022-01-14T21:33:25.820132Z",
          "shell.execute_reply.started": "2022-01-14T21:33:20.357012Z",
          "shell.execute_reply": "2022-01-14T21:33:25.819372Z"
        },
        "trusted": true,
        "id": "wBb1MDPcRjIC"
      },
      "execution_count": null,
      "outputs": []
    },
    {
      "cell_type": "code",
      "source": [
        "from sklearn.model_selection import train_test_split\n",
        "\n",
        "# The last element contains the labels\n",
        "labels = healthy_df['failure'].values\n",
        "\n",
        "# The other data points are the electrocadriogram data\n",
        "data = healthy_df[['a1', 'a2', 'a3', 'a4']].values\n",
        "\n",
        "X_train, X_test, y_train, y_test = train_test_split(\n",
        "    data, labels, test_size=0.2, random_state=21\n",
        ")"
      ],
      "metadata": {
        "execution": {
          "iopub.status.busy": "2022-01-14T21:33:38.279905Z",
          "iopub.execute_input": "2022-01-14T21:33:38.280171Z",
          "iopub.status.idle": "2022-01-14T21:33:38.469477Z",
          "shell.execute_reply.started": "2022-01-14T21:33:38.280140Z",
          "shell.execute_reply": "2022-01-14T21:33:38.468739Z"
        },
        "trusted": true,
        "id": "wZF1OGaBRjID"
      },
      "execution_count": null,
      "outputs": []
    },
    {
      "cell_type": "code",
      "source": [
        "labels = broken_df['failure'].values\n",
        "\n",
        "# The other data points are the electrocadriogram data\n",
        "X_br = broken_df[['a1', 'a2', 'a3', 'a4']].values"
      ],
      "metadata": {
        "execution": {
          "iopub.status.busy": "2022-01-14T21:34:04.306209Z",
          "iopub.execute_input": "2022-01-14T21:34:04.306878Z",
          "iopub.status.idle": "2022-01-14T21:34:04.358554Z",
          "shell.execute_reply.started": "2022-01-14T21:34:04.306839Z",
          "shell.execute_reply": "2022-01-14T21:34:04.357693Z"
        },
        "trusted": true,
        "id": "vMbF_-TjRjID"
      },
      "execution_count": null,
      "outputs": []
    },
    {
      "cell_type": "code",
      "source": [
        "min_val = tf.reduce_min(X_train)\n",
        "max_val = tf.reduce_max(X_train)\n",
        "\n",
        "X_train = (X_train - min_val) / (max_val - min_val)\n",
        "X_test = (X_test - min_val) / (max_val - min_val)\n",
        "\n",
        "X_train = tf.cast(X_train, tf.float32)\n",
        "X_test = tf.cast(X_test, tf.float32)\n",
        "\n",
        "X_train = np.array(X_train)\n",
        "X_test = np.array(X_test)"
      ],
      "metadata": {
        "execution": {
          "iopub.status.busy": "2022-01-14T21:34:22.571394Z",
          "iopub.execute_input": "2022-01-14T21:34:22.571796Z",
          "iopub.status.idle": "2022-01-14T21:34:22.607414Z",
          "shell.execute_reply.started": "2022-01-14T21:34:22.571760Z",
          "shell.execute_reply": "2022-01-14T21:34:22.606730Z"
        },
        "trusted": true,
        "id": "ILHx5WbHRjIE"
      },
      "execution_count": null,
      "outputs": []
    },
    {
      "cell_type": "code",
      "source": [
        "min_val = tf.reduce_min(X_br)\n",
        "max_val = tf.reduce_max(X_br)\n",
        "\n",
        "X_br = (X_br - min_val) / (max_val - min_val)\n",
        "X_br = tf.cast(X_br, tf.float32)\n",
        "X_br = np.array(X_br)"
      ],
      "metadata": {
        "execution": {
          "iopub.status.busy": "2022-01-14T21:34:18.430335Z",
          "iopub.execute_input": "2022-01-14T21:34:18.430797Z",
          "iopub.status.idle": "2022-01-14T21:34:18.572287Z",
          "shell.execute_reply.started": "2022-01-14T21:34:18.430760Z",
          "shell.execute_reply": "2022-01-14T21:34:18.571402Z"
        },
        "trusted": true,
        "id": "r2Ic4_7mRjIE"
      },
      "execution_count": null,
      "outputs": []
    },
    {
      "cell_type": "code",
      "source": [
        "X = []\n",
        "c1 = 0\n",
        "c2 = 0\n",
        "\n",
        "#print(data_train[0:200, :])\n",
        "for i in range(4063):\n",
        "    c2 = c2 + 200 \n",
        "    X.append(X_train[c1:c2,:])\n",
        "#     print(data_train[c1:c2])\n",
        "    c1 = c1 + 200\n",
        "    \n",
        "X = np.array(X)\n",
        "data_train = X"
      ],
      "metadata": {
        "execution": {
          "iopub.status.busy": "2022-01-14T21:34:27.752840Z",
          "iopub.execute_input": "2022-01-14T21:34:27.753095Z",
          "iopub.status.idle": "2022-01-14T21:34:27.768818Z",
          "shell.execute_reply.started": "2022-01-14T21:34:27.753059Z",
          "shell.execute_reply": "2022-01-14T21:34:27.768025Z"
        },
        "trusted": true,
        "id": "HbL92z5FRjIF"
      },
      "execution_count": null,
      "outputs": []
    },
    {
      "cell_type": "code",
      "source": [
        "print(data_train.shape)"
      ],
      "metadata": {
        "execution": {
          "iopub.status.busy": "2022-01-14T19:10:41.119042Z",
          "iopub.execute_input": "2022-01-14T19:10:41.119360Z",
          "iopub.status.idle": "2022-01-14T19:10:41.125690Z",
          "shell.execute_reply.started": "2022-01-14T19:10:41.119328Z",
          "shell.execute_reply": "2022-01-14T19:10:41.124693Z"
        },
        "trusted": true,
        "colab": {
          "base_uri": "https://localhost:8080/"
        },
        "id": "WVUP5tQSRjIF",
        "outputId": "2c740546-80da-4dfe-c541-e273a7f75a8f"
      },
      "execution_count": null,
      "outputs": [
        {
          "output_type": "stream",
          "name": "stdout",
          "text": [
            "(4063, 200, 4)\n"
          ]
        }
      ]
    },
    {
      "cell_type": "code",
      "source": [
        "X = []\n",
        "c1 = 0\n",
        "c2 = 0\n",
        "\n",
        "#print(data_train[0:200, :])\n",
        "for i in range(1015):\n",
        "    c2 = c2 + 200 \n",
        "    X.append(X_test[c1:c2,:])\n",
        "#     print(data_train[c1:c2])\n",
        "    c1 = c1 + 200\n",
        "    \n",
        "X = np.array(X)\n",
        "print(X.shape)\n",
        "data_test = X"
      ],
      "metadata": {
        "execution": {
          "iopub.status.busy": "2022-01-14T21:34:41.738546Z",
          "iopub.execute_input": "2022-01-14T21:34:41.738794Z",
          "iopub.status.idle": "2022-01-14T21:34:41.749669Z",
          "shell.execute_reply.started": "2022-01-14T21:34:41.738765Z",
          "shell.execute_reply": "2022-01-14T21:34:41.748758Z"
        },
        "trusted": true,
        "colab": {
          "base_uri": "https://localhost:8080/"
        },
        "id": "yyYa13hfRjIF",
        "outputId": "c91b7413-5c19-4b1c-89d5-c37e1b7490f4"
      },
      "execution_count": null,
      "outputs": [
        {
          "output_type": "stream",
          "name": "stdout",
          "text": [
            "(1015, 200, 4)\n"
          ]
        }
      ]
    },
    {
      "cell_type": "code",
      "source": [
        "X = []\n",
        "c1 = 0\n",
        "c2 = 0\n",
        "\n",
        "#print(data_train[0:200, :])\n",
        "for i in range(1015):\n",
        "    c2 = c2 + 200 \n",
        "    X.append(X_br[c1:c2,:])\n",
        "#     print(data_train[c1:c2])\n",
        "    c1 = c1 + 200\n",
        "    \n",
        "X = np.array(X)\n",
        "print(X.shape)\n",
        "anomoly_data = X"
      ],
      "metadata": {
        "colab": {
          "base_uri": "https://localhost:8080/"
        },
        "id": "4sNkT93hkK1B",
        "outputId": "acb5ed3e-5c39-4339-f962-f4e7a4169eaf"
      },
      "execution_count": null,
      "outputs": [
        {
          "output_type": "stream",
          "name": "stdout",
          "text": [
            "(1015, 200, 4)\n"
          ]
        }
      ]
    },
    {
      "cell_type": "code",
      "source": [
        "X = []\n",
        "c1 = 0\n",
        "c2 = 0\n",
        "\n",
        "#print(data_train[0:200, :])\n",
        "for i in range(5026):\n",
        "    c2 = c2 + 200 \n",
        "    X.append(X_br[c1:c2,:])\n",
        "#     print(data_train[c1:c2])\n",
        "    c1 = c1 + 200\n",
        "    \n",
        "X = np.array(X)\n",
        "print(X.shape)\n",
        "data_br = X"
      ],
      "metadata": {
        "execution": {
          "iopub.status.busy": "2022-01-14T21:34:55.459461Z",
          "iopub.execute_input": "2022-01-14T21:34:55.459728Z",
          "iopub.status.idle": "2022-01-14T21:34:55.477204Z",
          "shell.execute_reply.started": "2022-01-14T21:34:55.459696Z",
          "shell.execute_reply": "2022-01-14T21:34:55.476128Z"
        },
        "trusted": true,
        "colab": {
          "base_uri": "https://localhost:8080/"
        },
        "id": "NtQ1FHvoRjIG",
        "outputId": "4149d00f-31a5-418a-ecf7-ae82801748fb"
      },
      "execution_count": null,
      "outputs": [
        {
          "output_type": "stream",
          "name": "stdout",
          "text": [
            "(5026, 200, 4)\n"
          ]
        }
      ]
    },
    {
      "cell_type": "code",
      "source": [
        "test = np.concatenate([data_br[:1000,:,:], data_test[:1000,:,:]], axis=0)\n",
        "np.shape(data_train)"
      ],
      "metadata": {
        "execution": {
          "iopub.status.busy": "2022-01-14T21:35:00.347083Z",
          "iopub.execute_input": "2022-01-14T21:35:00.347603Z",
          "iopub.status.idle": "2022-01-14T21:35:00.352919Z",
          "shell.execute_reply.started": "2022-01-14T21:35:00.347559Z",
          "shell.execute_reply": "2022-01-14T21:35:00.352260Z"
        },
        "trusted": true,
        "id": "aOLTZkK-RjIG",
        "colab": {
          "base_uri": "https://localhost:8080/"
        },
        "outputId": "650ca7fd-8470-4616-8138-d86ca6a60c66"
      },
      "execution_count": null,
      "outputs": [
        {
          "output_type": "execute_result",
          "data": {
            "text/plain": [
              "(4063, 200, 4)"
            ]
          },
          "metadata": {},
          "execution_count": 111
        }
      ]
    },
    {
      "cell_type": "code",
      "source": [
        "test_label_1 = np.full((1000,), 0) \n",
        "test_label_2 = np.full((1000,), 1) \n",
        "\n",
        "label = np.concatenate([test_label_1,test_label_2],axis=0)"
      ],
      "metadata": {
        "execution": {
          "iopub.status.busy": "2022-01-14T21:35:34.883318Z",
          "iopub.execute_input": "2022-01-14T21:35:34.884134Z",
          "iopub.status.idle": "2022-01-14T21:35:34.888674Z",
          "shell.execute_reply.started": "2022-01-14T21:35:34.884079Z",
          "shell.execute_reply": "2022-01-14T21:35:34.887960Z"
        },
        "trusted": true,
        "id": "-gYUkAJrRjIH"
      },
      "execution_count": null,
      "outputs": []
    },
    {
      "cell_type": "code",
      "source": [
        "label.shape"
      ],
      "metadata": {
        "execution": {
          "iopub.status.busy": "2022-01-14T19:18:27.824230Z",
          "iopub.execute_input": "2022-01-14T19:18:27.824535Z",
          "iopub.status.idle": "2022-01-14T19:18:27.831510Z",
          "shell.execute_reply.started": "2022-01-14T19:18:27.824503Z",
          "shell.execute_reply": "2022-01-14T19:18:27.830367Z"
        },
        "trusted": true,
        "colab": {
          "base_uri": "https://localhost:8080/"
        },
        "id": "w29SM3bJRjIH",
        "outputId": "4c3e5c94-08a4-40c7-d458-e3b1f2c8c09d"
      },
      "execution_count": null,
      "outputs": [
        {
          "output_type": "execute_result",
          "data": {
            "text/plain": [
              "(2000,)"
            ]
          },
          "metadata": {},
          "execution_count": 113
        }
      ]
    },
    {
      "cell_type": "code",
      "source": [
        "# import matplotlib.pyplot as plt\n",
        "\n",
        "# fig, ax = plt.subplots(2, 2, figsize=(14, 6), dpi=80)\n",
        "# ax[0, 0].plot(healthy_df['a1'].values, label='sensor 1', color='blue', linewidth=1)\n",
        "# ax[0, 1].plot(healthy_df['a2'].values, label='sensor 2', color='red', linewidth=1)\n",
        "# ax[1, 0].plot(healthy_df['a3'].values, label='sensor 3', color='green', linewidth=1)\n",
        "# ax[1, 1].plot(healthy_df['a4'].values, label='sensor 4', color='black', linewidth=1)\n",
        "# # plt.legend(loc='lower left')\n",
        "# ax[0, 0].set_title('Sensor 1', fontsize=16)\n",
        "# ax[0, 1].set_title('Sensor 2', fontsize=16)\n",
        "# ax[1, 0].set_title('Sensor 3', fontsize=16)\n",
        "# ax[1, 1].set_title('Sensor 4', fontsize=16)\n",
        "# plt.show()"
      ],
      "metadata": {
        "execution": {
          "iopub.status.busy": "2022-01-14T21:35:41.198267Z",
          "iopub.execute_input": "2022-01-14T21:35:41.198519Z",
          "iopub.status.idle": "2022-01-14T21:35:42.823399Z",
          "shell.execute_reply.started": "2022-01-14T21:35:41.198490Z",
          "shell.execute_reply": "2022-01-14T21:35:42.822692Z"
        },
        "trusted": true,
        "id": "S_E0I-trRjIH"
      },
      "execution_count": null,
      "outputs": []
    },
    {
      "cell_type": "code",
      "source": [
        "def save_fig(name):\n",
        "    # plt.gca().set_axis_off()\n",
        "    plt.subplots_adjust(top = 1, bottom = 0, right = 1, left = 0, \n",
        "                hspace = 0.25, wspace = 0.30)\n",
        "    plt.margins(0,0)\n",
        "    # plt.gca().xaxis.set_major_locator(plt.NullLocator())\n",
        "    # plt.gca().yaxis.set_major_locator(plt.NullLocator())\n",
        "    plt.savefig((name+'.pdf'), bbox_inches = 'tight',\n",
        "        pad_inches = 0)"
      ],
      "metadata": {
        "id": "pMXDZ0kvUJPd"
      },
      "execution_count": null,
      "outputs": []
    },
    {
      "cell_type": "code",
      "source": [
        "import matplotlib.pyplot as plt\n",
        "\n",
        "fig, ax = plt.subplots(3, figsize=(8, 6))\n",
        "ax[0].plot(healthy_df['a1'].values, label='sensor 1', color='black', linewidth=1)\n",
        "ax[0].plot(broken_df['a1'].values, label='sensor 1', color='red', linewidth=1)\n",
        "ax[0].set_xlim(0, 1e6)\n",
        "ax[1].plot(healthy_df['a1'].values, label='sensor 2', color='black', linewidth=1)\n",
        "ax[1].plot(broken_df['a1'].values, label='sensor 1', color='red', linewidth=1)\n",
        "ax[1].set_xlim(0, 1e4)\n",
        "ax[2].plot(healthy_df['a1'].values, label='healthy', color='black', linewidth=1)\n",
        "ax[2].plot(broken_df['a1'].values, label='broken', color='red', linewidth=1)\n",
        "ax[2].set_xlim(0, 1e2)\n",
        "ax[2].legend()\n",
        "save_fig('s1')\n",
        "plt.show()"
      ],
      "metadata": {
        "colab": {
          "base_uri": "https://localhost:8080/",
          "height": 480
        },
        "id": "U5bRL2LOMVru",
        "outputId": "9c690e26-eda1-478a-bfff-989a5c4a856a"
      },
      "execution_count": null,
      "outputs": [
        {
          "output_type": "display_data",
          "data": {
            "image/png": "[encoded data removed]",
            "text/plain": [
              "<Figure size 576x432 with 3 Axes>"
            ]
          },
          "metadata": {
            "needs_background": "light"
          }
        }
      ]
    },
    {
      "cell_type": "code",
      "source": [
        "import matplotlib.pyplot as plt\n",
        "\n",
        "fig, ax = plt.subplots(3, figsize=(8, 6))\n",
        "ax[0].plot(healthy_df['a2'].values, label='sensor 1', color='black', linewidth=1)\n",
        "ax[0].plot(broken_df['a2'].values, label='sensor 1', color='red', linewidth=1)\n",
        "ax[0].set_xlim(0, 1e6)\n",
        "ax[1].plot(healthy_df['a2'].values, label='sensor 2', color='black', linewidth=1)\n",
        "ax[1].plot(broken_df['a2'].values, label='sensor 1', color='red', linewidth=1)\n",
        "ax[1].set_xlim(0, 1e4)\n",
        "ax[2].plot(healthy_df['a2'].values, label='healthy', color='black', linewidth=1)\n",
        "ax[2].plot(broken_df['a2'].values, label='broken', color='red', linewidth=1)\n",
        "ax[2].set_xlim(0, 1e2)\n",
        "ax[2].legend()\n",
        "save_fig('s2')\n",
        "plt.show()"
      ],
      "metadata": {
        "colab": {
          "base_uri": "https://localhost:8080/",
          "height": 480
        },
        "id": "xqr9_fiYQlRF",
        "outputId": "8df95bd5-7a5e-416b-e516-cfc11f8f41e0"
      },
      "execution_count": null,
      "outputs": [
        {
          "output_type": "display_data",
          "data": {
            "image/png": "[encoded data removed]",
            "text/plain": [
              "<Figure size 576x432 with 3 Axes>"
            ]
          },
          "metadata": {
            "needs_background": "light"
          }
        }
      ]
    },
    {
      "cell_type": "code",
      "source": [
        "import matplotlib.pyplot as plt\n",
        "\n",
        "fig, ax = plt.subplots(3, figsize=(8, 6))\n",
        "ax[0].plot(healthy_df['a3'].values, label='sensor 1', color='black', linewidth=1)\n",
        "ax[0].plot(broken_df['a3'].values, label='sensor 1', color='red', linewidth=1)\n",
        "ax[0].set_xlim(0, 1e6)\n",
        "ax[1].plot(healthy_df['a3'].values, label='sensor 2', color='black', linewidth=1)\n",
        "ax[1].plot(broken_df['a3'].values, label='sensor 1', color='red', linewidth=1)\n",
        "ax[1].set_xlim(0, 1e4)\n",
        "ax[2].plot(healthy_df['a3'].values, label='healthy', color='black', linewidth=1)\n",
        "ax[2].plot(broken_df['a3'].values, label='broken', color='red', linewidth=1)\n",
        "ax[2].set_xlim(0, 1e2)\n",
        "ax[2].legend()\n",
        "save_fig('s3')\n",
        "plt.show()"
      ],
      "metadata": {
        "colab": {
          "base_uri": "https://localhost:8080/",
          "height": 480
        },
        "id": "2QkVj_CVRRv0",
        "outputId": "39ececff-89fd-4867-ff1c-56c8a38ad4e0"
      },
      "execution_count": null,
      "outputs": [
        {
          "output_type": "display_data",
          "data": {
            "image/png": "[encoded data removed]",
            "text/plain": [
              "<Figure size 576x432 with 3 Axes>"
            ]
          },
          "metadata": {
            "needs_background": "light"
          }
        }
      ]
    },
    {
      "cell_type": "code",
      "source": [
        "import matplotlib.pyplot as plt\n",
        "\n",
        "fig, ax = plt.subplots(3, figsize=(8, 6))\n",
        "ax[0].plot(healthy_df['a4'].values, label='sensor 1', color='black', linewidth=1)\n",
        "ax[0].plot(broken_df['a4'].values, label='sensor 1', color='red', linewidth=1)\n",
        "ax[0].set_xlim(0, 1e6)\n",
        "ax[1].plot(healthy_df['a4'].values, label='sensor 2', color='black', linewidth=1)\n",
        "ax[1].plot(broken_df['a4'].values, label='sensor 1', color='red', linewidth=1)\n",
        "ax[1].set_xlim(0, 1e4)\n",
        "ax[2].plot(healthy_df['a4'].values, label='healthy', color='black', linewidth=1)\n",
        "ax[2].plot(broken_df['a4'].values, label='broken', color='red', linewidth=1)\n",
        "ax[2].set_xlim(0, 1e2)\n",
        "ax[2].legend()\n",
        "save_fig('s4')\n",
        "plt.show()"
      ],
      "metadata": {
        "colab": {
          "base_uri": "https://localhost:8080/",
          "height": 483
        },
        "id": "hQ0K13DXRU_k",
        "outputId": "d758a0a3-b8c7-4fae-bb75-01863afc63e5"
      },
      "execution_count": null,
      "outputs": [
        {
          "output_type": "display_data",
          "data": {
            "image/png": "[encoded data removed]",
            "text/plain": [
              "<Figure size 576x432 with 3 Axes>"
            ]
          },
          "metadata": {
            "needs_background": "light"
          }
        }
      ]
    },
    {
      "cell_type": "code",
      "source": [
        "# import matplotlib.pyplot as plt\n",
        "\n",
        "# def save_fig(name):\n",
        "#     # plt.gca().set_axis_off()\n",
        "#     plt.subplots_adjust(top = 1, bottom = 0, right = 1, left = 0, \n",
        "#                 hspace = 0.25, wspace = 0.30)\n",
        "#     plt.margins(0,0)\n",
        "#     # plt.gca().xaxis.set_major_locator(plt.NullLocator())\n",
        "#     # plt.gca().yaxis.set_major_locator(plt.NullLocator())\n",
        "#     plt.savefig((name+'.pdf'), bbox_inches = 'tight',\n",
        "#         pad_inches = 0)\n",
        "\n",
        "# fig, ax = plt.subplots(3, figsize=(8, 6))\n",
        "# ax[0].plot(healthy_df['a4'].values, label='sensor 1', color='black', linewidth=1)\n",
        "# ax[0].set_xlim(0, 1e6)\n",
        "# ax[1].plot(healthy_df['a4'].values, label='sensor 2', color='black', linewidth=1)\n",
        "# ax[1].set_xlim(0, 1e4)\n",
        "# ax[2].plot(healthy_df['a4'].values, label='sensor 3', color='black', linewidth=1)\n",
        "# ax[2].set_xlim(0, 1e2)\n",
        "# # plt.legend(loc='lower left')\n",
        "# # ax[0].set_title('Sensor 1', fontsize=16)\n",
        "# # ax[1].set_title('Sensor 2', fontsize=16)\n",
        "# # ax[2].set_title('Sensor 3', fontsize=16)\n",
        "# save_fig('s4')\n",
        "# plt.show()"
      ],
      "metadata": {
        "id": "F3B1FQc4TUzW"
      },
      "execution_count": null,
      "outputs": []
    },
    {
      "cell_type": "code",
      "source": [
        "# fig, ax = plt.subplots(figsize=(14, 6), dpi=80)\n",
        "# ax.plot(broken_df['a1'].values, label='sensor 1', color='blue', animated = True, linewidth=1)\n",
        "# ax.plot(broken_df['a2'].values, label='sensor 2', color='red', animated = True, linewidth=1)\n",
        "# ax.plot(broken_df['a3'].values, label='snsor 3', color='green', animated = True, linewidth=1)\n",
        "# ax.plot(broken_df['a4'].values, label='snsor 4', color='black', animated = True, linewidth=1)\n",
        "# plt.legend(loc='lower left')\n",
        "# ax.set_title(' Sensors Data(BROKEN)', fontsize=16)\n",
        "# plt.show()"
      ],
      "metadata": {
        "execution": {
          "iopub.status.busy": "2022-01-14T21:35:44.025726Z",
          "iopub.execute_input": "2022-01-14T21:35:44.025988Z",
          "iopub.status.idle": "2022-01-14T21:35:46.219370Z",
          "shell.execute_reply.started": "2022-01-14T21:35:44.025956Z",
          "shell.execute_reply": "2022-01-14T21:35:46.218673Z"
        },
        "trusted": true,
        "id": "uuZb8GQARjII"
      },
      "execution_count": null,
      "outputs": []
    },
    {
      "cell_type": "code",
      "source": [
        "# fig, ax = plt.subplots(figsize=(14, 6), dpi=80)\n",
        "# ax.plot(healthy_df['a1'].values, label='Healthy a 1', color='blue', animated = True, linewidth=1)\n",
        "# ax.plot(broken_df['a1'].values, label='Broken a 1', color='red', animated = True, linewidth=1)\n",
        "# # ax.plot(healthy_df['a3'].values, label='Bearing 3', color='green', animated = True, linewidth=1)\n",
        "# # ax.plot(healthy_df['a4'].values, label='Bearing 4', color='black', animated = True, linewidth=1)\n",
        "# plt.legend(loc='lower left')\n",
        "# ax.set_title('Bearing Sensor Data(a1)', fontsize=16)\n",
        "# plt.show()"
      ],
      "metadata": {
        "execution": {
          "iopub.status.busy": "2022-01-14T21:35:49.171466Z",
          "iopub.execute_input": "2022-01-14T21:35:49.171727Z",
          "iopub.status.idle": "2022-01-14T21:35:50.172909Z",
          "shell.execute_reply.started": "2022-01-14T21:35:49.171697Z",
          "shell.execute_reply": "2022-01-14T21:35:50.172086Z"
        },
        "trusted": true,
        "id": "S2mF1811RjII"
      },
      "execution_count": null,
      "outputs": []
    },
    {
      "cell_type": "markdown",
      "source": [
        "# **LSTM**"
      ],
      "metadata": {
        "id": "nENnbtcWJ5qT"
      }
    },
    {
      "cell_type": "code",
      "source": [
        "# define the autoencoder network model\n",
        "def autoencoder_model(X):\n",
        "    inputs = Input(shape=(X.shape[1], X.shape[2]))\n",
        "    L1 = LSTM(16, activation='relu', return_sequences=True, \n",
        "              kernel_regularizer=regularizers.l2(0.00))(inputs)\n",
        "    #L11 = LSTM(8, activation='relu', return_sequences=True)(L1)\n",
        "    L2 = LSTM(4, activation='relu', return_sequences=False)(L1)\n",
        "    L3 = RepeatVector(X.shape[1])(L2)\n",
        "    L4 = LSTM(4, activation='relu', return_sequences=True)(L3)\n",
        "    #L44 = LSTM(8, activation='relu', return_sequences=True)(L4)\n",
        "    L5 = LSTM(16, activation='relu', return_sequences=True)(L4)\n",
        "    output = TimeDistributed(Dense(X.shape[2]))(L5)    \n",
        "    model = Model(inputs=inputs, outputs=output)\n",
        "    return model"
      ],
      "metadata": {
        "execution": {
          "iopub.status.busy": "2022-01-14T21:36:09.710865Z",
          "iopub.execute_input": "2022-01-14T21:36:09.711124Z",
          "iopub.status.idle": "2022-01-14T21:36:09.718442Z",
          "shell.execute_reply.started": "2022-01-14T21:36:09.711093Z",
          "shell.execute_reply": "2022-01-14T21:36:09.717637Z"
        },
        "trusted": true,
        "id": "8wG_8OeBRjIJ"
      },
      "execution_count": null,
      "outputs": []
    },
    {
      "cell_type": "code",
      "source": [
        "# create the autoencoder model\n",
        "model = autoencoder_model(data_train)\n",
        "#loss = tf.keras.losses.Huber(reduction=tf.keras.losses.Reduction.SUM)\n",
        "model.compile(optimizer='adam', loss='mae')\n",
        "model.summary()"
      ],
      "metadata": {
        "execution": {
          "iopub.status.busy": "2022-01-14T21:36:13.989306Z",
          "iopub.execute_input": "2022-01-14T21:36:13.989557Z",
          "iopub.status.idle": "2022-01-14T21:36:14.417819Z",
          "shell.execute_reply.started": "2022-01-14T21:36:13.989527Z",
          "shell.execute_reply": "2022-01-14T21:36:14.417121Z"
        },
        "trusted": true,
        "colab": {
          "base_uri": "https://localhost:8080/"
        },
        "id": "MzJ3EVz7RjIK",
        "outputId": "3d215a02-f3bd-4852-b0f4-84eb5adee7b9"
      },
      "execution_count": null,
      "outputs": [
        {
          "output_type": "stream",
          "name": "stdout",
          "text": [
            "WARNING:tensorflow:Layer lstm_12 will not use cuDNN kernels since it doesn't meet the criteria. It will use a generic GPU kernel as fallback when running on GPU.\n",
            "WARNING:tensorflow:Layer lstm_13 will not use cuDNN kernels since it doesn't meet the criteria. It will use a generic GPU kernel as fallback when running on GPU.\n",
            "WARNING:tensorflow:Layer lstm_14 will not use cuDNN kernels since it doesn't meet the criteria. It will use a generic GPU kernel as fallback when running on GPU.\n",
            "WARNING:tensorflow:Layer lstm_15 will not use cuDNN kernels since it doesn't meet the criteria. It will use a generic GPU kernel as fallback when running on GPU.\n",
            "Model: \"model_3\"\n",
            "_________________________________________________________________\n",
            " Layer (type)                Output Shape              Param #   \n",
            "=================================================================\n",
            " input_4 (InputLayer)        [(None, 200, 4)]          0         \n",
            "                                                                 \n",
            " lstm_12 (LSTM)              (None, 200, 16)           1344      \n",
            "                                                                 \n",
            " lstm_13 (LSTM)              (None, 4)                 336       \n",
            "                                                                 \n",
            " repeat_vector_3 (RepeatVect  (None, 200, 4)           0         \n",
            " or)                                                             \n",
            "                                                                 \n",
            " lstm_14 (LSTM)              (None, 200, 4)            144       \n",
            "                                                                 \n",
            " lstm_15 (LSTM)              (None, 200, 16)           1344      \n",
            "                                                                 \n",
            " time_distributed_3 (TimeDis  (None, 200, 4)           68        \n",
            " tributed)                                                       \n",
            "                                                                 \n",
            "=================================================================\n",
            "Total params: 3,236\n",
            "Trainable params: 3,236\n",
            "Non-trainable params: 0\n",
            "_________________________________________________________________\n"
          ]
        }
      ]
    },
    {
      "cell_type": "code",
      "source": [
        "# define the autoencoder network model\n",
        "\n",
        "inputs = Input(shape=(200, 4))\n",
        "L1 = LSTM(16, activation='relu', return_sequences=True, \n",
        "            kernel_regularizer=regularizers.l2(0.00))(inputs)\n",
        "L2 = LSTM(4, activation='relu', return_sequences=False)(L1)\n",
        "L3 = RepeatVector(200)(L2)\n",
        "L4 = LSTM(4, activation='relu', return_sequences=True)(L3)\n",
        "L5 = LSTM(16, activation='relu', return_sequences=True)(L4)\n",
        "output = TimeDistributed(Dense(4))(L5)    \n",
        "model = Model(inputs=inputs, outputs=output)\n",
        "\n",
        "model.compile(optimizer='adam', loss='mae')\n",
        "model.summary()\n",
        "\n",
        "# fit the model to the data\n",
        "nb_epochs = 150\n",
        "batch_size = 1024\n",
        "history = model.fit(data_train, data_train, epochs=nb_epochs, batch_size=batch_size, validation_split=0.05).history"
      ],
      "metadata": {
        "colab": {
          "base_uri": "https://localhost:8080/"
        },
        "id": "15qUkNeAbRWF",
        "outputId": "d1958237-7b95-4f2e-c4e9-f38646a8b4ea"
      },
      "execution_count": null,
      "outputs": [
        {
          "output_type": "stream",
          "name": "stdout",
          "text": [
            "WARNING:tensorflow:Layer lstm_20 will not use cuDNN kernels since it doesn't meet the criteria. It will use a generic GPU kernel as fallback when running on GPU.\n",
            "WARNING:tensorflow:Layer lstm_21 will not use cuDNN kernels since it doesn't meet the criteria. It will use a generic GPU kernel as fallback when running on GPU.\n",
            "WARNING:tensorflow:Layer lstm_22 will not use cuDNN kernels since it doesn't meet the criteria. It will use a generic GPU kernel as fallback when running on GPU.\n",
            "WARNING:tensorflow:Layer lstm_23 will not use cuDNN kernels since it doesn't meet the criteria. It will use a generic GPU kernel as fallback when running on GPU.\n",
            "Model: \"model_5\"\n",
            "_________________________________________________________________\n",
            " Layer (type)                Output Shape              Param #   \n",
            "=================================================================\n",
            " input_6 (InputLayer)        [(None, 200, 4)]          0         \n",
            "                                                                 \n",
            " lstm_20 (LSTM)              (None, 200, 16)           1344      \n",
            "                                                                 \n",
            " lstm_21 (LSTM)              (None, 4)                 336       \n",
            "                                                                 \n",
            " repeat_vector_5 (RepeatVect  (None, 200, 4)           0         \n",
            " or)                                                             \n",
            "                                                                 \n",
            " lstm_22 (LSTM)              (None, 200, 4)            144       \n",
            "                                                                 \n",
            " lstm_23 (LSTM)              (None, 200, 16)           1344      \n",
            "                                                                 \n",
            " time_distributed_5 (TimeDis  (None, 200, 4)           68        \n",
            " tributed)                                                       \n",
            "                                                                 \n",
            "=================================================================\n",
            "Total params: 3,236\n",
            "Trainable params: 3,236\n",
            "Non-trainable params: 0\n",
            "_________________________________________________________________\n",
            "Epoch 1/150\n",
            "4/4 [==============================] - 9s 1s/step - loss: 0.5071 - val_loss: 0.5028\n",
            "Epoch 2/150\n",
            "4/4 [==============================] - 5s 1s/step - loss: 0.5007 - val_loss: 0.4967\n",
            "Epoch 3/150\n",
            "4/4 [==============================] - 5s 1s/step - loss: 0.4941 - val_loss: 0.4889\n",
            "Epoch 4/150\n",
            "4/4 [==============================] - 5s 1s/step - loss: 0.4858 - val_loss: 0.4801\n",
            "Epoch 5/150\n",
            "4/4 [==============================] - 5s 1s/step - loss: 0.4768 - val_loss: 0.4707\n",
            "Epoch 6/150\n",
            "4/4 [==============================] - 5s 1s/step - loss: 0.4672 - val_loss: 0.4604\n",
            "Epoch 7/150\n",
            "4/4 [==============================] - 5s 1s/step - loss: 0.4565 - val_loss: 0.4490\n",
            "Epoch 8/150\n",
            "4/4 [==============================] - 5s 1s/step - loss: 0.4446 - val_loss: 0.4364\n",
            "Epoch 9/150\n",
            "4/4 [==============================] - 5s 1s/step - loss: 0.4315 - val_loss: 0.4222\n",
            "Epoch 10/150\n",
            "4/4 [==============================] - 5s 1s/step - loss: 0.4168 - val_loss: 0.4063\n",
            "Epoch 11/150\n",
            "4/4 [==============================] - 5s 1s/step - loss: 0.4000 - val_loss: 0.3878\n",
            "Epoch 12/150\n",
            "4/4 [==============================] - 5s 1s/step - loss: 0.3805 - val_loss: 0.3661\n",
            "Epoch 13/150\n",
            "4/4 [==============================] - 5s 1s/step - loss: 0.3572 - val_loss: 0.3397\n",
            "Epoch 14/150\n",
            "4/4 [==============================] - 5s 1s/step - loss: 0.3287 - val_loss: 0.3065\n",
            "Epoch 15/150\n",
            "4/4 [==============================] - 5s 1s/step - loss: 0.2920 - val_loss: 0.2620\n",
            "Epoch 16/150\n",
            "4/4 [==============================] - 5s 1s/step - loss: 0.2412 - val_loss: 0.1968\n",
            "Epoch 17/150\n",
            "4/4 [==============================] - 5s 1s/step - loss: 0.1724 - val_loss: 0.1399\n",
            "Epoch 18/150\n",
            "4/4 [==============================] - 5s 1s/step - loss: 0.1562 - val_loss: 0.1222\n",
            "Epoch 19/150\n",
            "4/4 [==============================] - 5s 1s/step - loss: 0.1209 - val_loss: 0.1196\n",
            "Epoch 20/150\n",
            "4/4 [==============================] - 5s 1s/step - loss: 0.1179 - val_loss: 0.1140\n",
            "Epoch 21/150\n",
            "4/4 [==============================] - 5s 1s/step - loss: 0.1109 - val_loss: 0.1047\n",
            "Epoch 22/150\n",
            "4/4 [==============================] - 5s 1s/step - loss: 0.1006 - val_loss: 0.0926\n",
            "Epoch 23/150\n",
            "4/4 [==============================] - 5s 1s/step - loss: 0.0877 - val_loss: 0.0787\n",
            "Epoch 24/150\n",
            "4/4 [==============================] - 5s 1s/step - loss: 0.0740 - val_loss: 0.0665\n",
            "Epoch 25/150\n",
            "4/4 [==============================] - 5s 1s/step - loss: 0.0638 - val_loss: 0.0606\n",
            "Epoch 26/150\n",
            "4/4 [==============================] - 5s 1s/step - loss: 0.0598 - val_loss: 0.0585\n",
            "Epoch 27/150\n",
            "4/4 [==============================] - 5s 1s/step - loss: 0.0571 - val_loss: 0.0544\n",
            "Epoch 28/150\n",
            "4/4 [==============================] - 5s 1s/step - loss: 0.0529 - val_loss: 0.0513\n",
            "Epoch 29/150\n",
            "4/4 [==============================] - 5s 1s/step - loss: 0.0511 - val_loss: 0.0513\n",
            "Epoch 30/150\n",
            "4/4 [==============================] - 5s 1s/step - loss: 0.0512 - val_loss: 0.0510\n",
            "Epoch 31/150\n",
            "4/4 [==============================] - 5s 1s/step - loss: 0.0507 - val_loss: 0.0504\n",
            "Epoch 32/150\n",
            "4/4 [==============================] - 5s 1s/step - loss: 0.0504 - val_loss: 0.0505\n",
            "Epoch 33/150\n",
            "4/4 [==============================] - 5s 1s/step - loss: 0.0504 - val_loss: 0.0504\n",
            "Epoch 34/150\n",
            "4/4 [==============================] - 5s 1s/step - loss: 0.0502 - val_loss: 0.0500\n",
            "Epoch 35/150\n",
            "4/4 [==============================] - 5s 1s/step - loss: 0.0499 - val_loss: 0.0498\n",
            "Epoch 36/150\n",
            "4/4 [==============================] - 5s 1s/step - loss: 0.0497 - val_loss: 0.0497\n",
            "Epoch 37/150\n",
            "4/4 [==============================] - 5s 1s/step - loss: 0.0495 - val_loss: 0.0495\n",
            "Epoch 38/150\n",
            "4/4 [==============================] - 5s 1s/step - loss: 0.0494 - val_loss: 0.0493\n",
            "Epoch 39/150\n",
            "4/4 [==============================] - 5s 1s/step - loss: 0.0492 - val_loss: 0.0492\n",
            "Epoch 40/150\n",
            "4/4 [==============================] - 5s 1s/step - loss: 0.0491 - val_loss: 0.0491\n",
            "Epoch 41/150\n",
            "4/4 [==============================] - 5s 1s/step - loss: 0.0490 - val_loss: 0.0490\n",
            "Epoch 42/150\n",
            "4/4 [==============================] - 5s 1s/step - loss: 0.0489 - val_loss: 0.0489\n",
            "Epoch 43/150\n",
            "4/4 [==============================] - 5s 1s/step - loss: 0.0488 - val_loss: 0.0488\n",
            "Epoch 44/150\n",
            "4/4 [==============================] - 5s 1s/step - loss: 0.0487 - val_loss: 0.0487\n",
            "Epoch 45/150\n",
            "4/4 [==============================] - 5s 1s/step - loss: 0.0486 - val_loss: 0.0486\n",
            "Epoch 46/150\n",
            "4/4 [==============================] - 5s 1s/step - loss: 0.0485 - val_loss: 0.0485\n",
            "Epoch 47/150\n",
            "4/4 [==============================] - 5s 1s/step - loss: 0.0484 - val_loss: 0.0484\n",
            "Epoch 48/150\n",
            "4/4 [==============================] - 5s 1s/step - loss: 0.0482 - val_loss: 0.0482\n",
            "Epoch 49/150\n",
            "4/4 [==============================] - 5s 1s/step - loss: 0.0481 - val_loss: 0.0481\n",
            "Epoch 50/150\n",
            "4/4 [==============================] - 5s 1s/step - loss: 0.0480 - val_loss: 0.0480\n",
            "Epoch 51/150\n",
            "4/4 [==============================] - 5s 1s/step - loss: 0.0479 - val_loss: 0.0479\n",
            "Epoch 52/150\n",
            "4/4 [==============================] - 5s 1s/step - loss: 0.0478 - val_loss: 0.0478\n",
            "Epoch 53/150\n",
            "4/4 [==============================] - 5s 1s/step - loss: 0.0477 - val_loss: 0.0477\n",
            "Epoch 54/150\n",
            "4/4 [==============================] - 5s 1s/step - loss: 0.0476 - val_loss: 0.0476\n",
            "Epoch 55/150\n",
            "4/4 [==============================] - 5s 1s/step - loss: 0.0475 - val_loss: 0.0475\n",
            "Epoch 56/150\n",
            "4/4 [==============================] - 5s 1s/step - loss: 0.0474 - val_loss: 0.0474\n",
            "Epoch 57/150\n",
            "4/4 [==============================] - 5s 1s/step - loss: 0.0473 - val_loss: 0.0473\n",
            "Epoch 58/150\n",
            "4/4 [==============================] - 5s 1s/step - loss: 0.0472 - val_loss: 0.0472\n",
            "Epoch 59/150\n",
            "4/4 [==============================] - 5s 1s/step - loss: 0.0471 - val_loss: 0.0471\n",
            "Epoch 60/150\n",
            "4/4 [==============================] - 5s 1s/step - loss: 0.0470 - val_loss: 0.0470\n",
            "Epoch 61/150\n",
            "4/4 [==============================] - 5s 1s/step - loss: 0.0469 - val_loss: 0.0469\n",
            "Epoch 62/150\n",
            "4/4 [==============================] - 5s 1s/step - loss: 0.0468 - val_loss: 0.0468\n",
            "Epoch 63/150\n",
            "4/4 [==============================] - 5s 1s/step - loss: 0.0467 - val_loss: 0.0467\n",
            "Epoch 64/150\n",
            "4/4 [==============================] - 5s 1s/step - loss: 0.0466 - val_loss: 0.0466\n",
            "Epoch 65/150\n",
            "4/4 [==============================] - 5s 1s/step - loss: 0.0465 - val_loss: 0.0465\n",
            "Epoch 66/150\n",
            "4/4 [==============================] - 5s 1s/step - loss: 0.0464 - val_loss: 0.0464\n",
            "Epoch 67/150\n",
            "4/4 [==============================] - 5s 1s/step - loss: 0.0463 - val_loss: 0.0463\n",
            "Epoch 68/150\n",
            "4/4 [==============================] - 5s 1s/step - loss: 0.0462 - val_loss: 0.0462\n",
            "Epoch 69/150\n",
            "4/4 [==============================] - 5s 1s/step - loss: 0.0461 - val_loss: 0.0461\n",
            "Epoch 70/150\n",
            "4/4 [==============================] - 5s 1s/step - loss: 0.0460 - val_loss: 0.0460\n",
            "Epoch 71/150\n",
            "4/4 [==============================] - 5s 1s/step - loss: 0.0459 - val_loss: 0.0459\n",
            "Epoch 72/150\n",
            "4/4 [==============================] - 5s 1s/step - loss: 0.0458 - val_loss: 0.0458\n",
            "Epoch 73/150\n",
            "4/4 [==============================] - 5s 1s/step - loss: 0.0457 - val_loss: 0.0457\n",
            "Epoch 74/150\n",
            "4/4 [==============================] - 5s 1s/step - loss: 0.0456 - val_loss: 0.0456\n",
            "Epoch 75/150\n",
            "4/4 [==============================] - 5s 1s/step - loss: 0.0455 - val_loss: 0.0455\n",
            "Epoch 76/150\n",
            "4/4 [==============================] - 5s 1s/step - loss: 0.0453 - val_loss: 0.0453\n",
            "Epoch 77/150\n",
            "4/4 [==============================] - 5s 1s/step - loss: 0.0452 - val_loss: 0.0452\n",
            "Epoch 78/150\n",
            "4/4 [==============================] - 5s 1s/step - loss: 0.0451 - val_loss: 0.0451\n",
            "Epoch 79/150\n",
            "4/4 [==============================] - 5s 1s/step - loss: 0.0450 - val_loss: 0.0450\n",
            "Epoch 80/150\n",
            "4/4 [==============================] - 5s 1s/step - loss: 0.0448 - val_loss: 0.0448\n",
            "Epoch 81/150\n",
            "4/4 [==============================] - 5s 1s/step - loss: 0.0447 - val_loss: 0.0447\n",
            "Epoch 82/150\n",
            "4/4 [==============================] - 5s 1s/step - loss: 0.0446 - val_loss: 0.0445\n",
            "Epoch 83/150\n",
            "4/4 [==============================] - 5s 1s/step - loss: 0.0444 - val_loss: 0.0444\n",
            "Epoch 84/150\n",
            "4/4 [==============================] - 5s 1s/step - loss: 0.0442 - val_loss: 0.0442\n",
            "Epoch 85/150\n",
            "4/4 [==============================] - 5s 1s/step - loss: 0.0441 - val_loss: 0.0441\n",
            "Epoch 86/150\n",
            "4/4 [==============================] - 5s 1s/step - loss: 0.0439 - val_loss: 0.0439\n",
            "Epoch 87/150\n",
            "4/4 [==============================] - 5s 1s/step - loss: 0.0437 - val_loss: 0.0437\n",
            "Epoch 88/150\n",
            "4/4 [==============================] - 5s 1s/step - loss: 0.0436 - val_loss: 0.0435\n",
            "Epoch 89/150\n",
            "4/4 [==============================] - 5s 1s/step - loss: 0.0434 - val_loss: 0.0433\n",
            "Epoch 90/150\n",
            "4/4 [==============================] - 5s 1s/step - loss: 0.0432 - val_loss: 0.0432\n",
            "Epoch 91/150\n",
            "4/4 [==============================] - 5s 1s/step - loss: 0.0430 - val_loss: 0.0430\n",
            "Epoch 92/150\n",
            "4/4 [==============================] - 5s 1s/step - loss: 0.0428 - val_loss: 0.0428\n",
            "Epoch 93/150\n",
            "4/4 [==============================] - 5s 1s/step - loss: 0.0426 - val_loss: 0.0426\n",
            "Epoch 94/150\n",
            "4/4 [==============================] - 5s 1s/step - loss: 0.0424 - val_loss: 0.0424\n",
            "Epoch 95/150\n",
            "4/4 [==============================] - 5s 1s/step - loss: 0.0422 - val_loss: 0.0422\n",
            "Epoch 96/150\n",
            "4/4 [==============================] - 5s 1s/step - loss: 0.0420 - val_loss: 0.0420\n",
            "Epoch 97/150\n",
            "4/4 [==============================] - 5s 1s/step - loss: 0.0419 - val_loss: 0.0418\n",
            "Epoch 98/150\n",
            "4/4 [==============================] - 5s 1s/step - loss: 0.0417 - val_loss: 0.0416\n",
            "Epoch 99/150\n",
            "4/4 [==============================] - 5s 1s/step - loss: 0.0415 - val_loss: 0.0415\n",
            "Epoch 100/150\n",
            "4/4 [==============================] - 5s 1s/step - loss: 0.0414 - val_loss: 0.0413\n",
            "Epoch 101/150\n",
            "4/4 [==============================] - 5s 1s/step - loss: 0.0412 - val_loss: 0.0412\n",
            "Epoch 102/150\n",
            "4/4 [==============================] - 5s 1s/step - loss: 0.0411 - val_loss: 0.0411\n",
            "Epoch 103/150\n",
            "4/4 [==============================] - 5s 1s/step - loss: 0.0410 - val_loss: 0.0410\n",
            "Epoch 104/150\n",
            "4/4 [==============================] - 5s 1s/step - loss: 0.0409 - val_loss: 0.0409\n",
            "Epoch 105/150\n",
            "4/4 [==============================] - 5s 1s/step - loss: 0.0408 - val_loss: 0.0408\n",
            "Epoch 106/150\n",
            "4/4 [==============================] - 5s 1s/step - loss: 0.0407 - val_loss: 0.0407\n",
            "Epoch 107/150\n",
            "4/4 [==============================] - 5s 1s/step - loss: 0.0406 - val_loss: 0.0406\n",
            "Epoch 108/150\n",
            "4/4 [==============================] - 5s 1s/step - loss: 0.0405 - val_loss: 0.0405\n",
            "Epoch 109/150\n",
            "4/4 [==============================] - 5s 1s/step - loss: 0.0404 - val_loss: 0.0404\n",
            "Epoch 110/150\n",
            "4/4 [==============================] - 5s 1s/step - loss: 0.0403 - val_loss: 0.0403\n",
            "Epoch 111/150\n",
            "4/4 [==============================] - 5s 1s/step - loss: 0.0402 - val_loss: 0.0402\n",
            "Epoch 112/150\n",
            "4/4 [==============================] - 5s 1s/step - loss: 0.0402 - val_loss: 0.0402\n",
            "Epoch 113/150\n",
            "4/4 [==============================] - 5s 1s/step - loss: 0.0401 - val_loss: 0.0401\n",
            "Epoch 114/150\n",
            "4/4 [==============================] - 5s 1s/step - loss: 0.0400 - val_loss: 0.0400\n",
            "Epoch 115/150\n",
            "4/4 [==============================] - 5s 1s/step - loss: 0.0399 - val_loss: 0.0399\n",
            "Epoch 116/150\n",
            "4/4 [==============================] - 5s 1s/step - loss: 0.0398 - val_loss: 0.0398\n",
            "Epoch 117/150\n",
            "4/4 [==============================] - 5s 1s/step - loss: 0.0398 - val_loss: 0.0398\n",
            "Epoch 118/150\n",
            "4/4 [==============================] - 5s 1s/step - loss: 0.0397 - val_loss: 0.0397\n",
            "Epoch 119/150\n",
            "4/4 [==============================] - 5s 1s/step - loss: 0.0396 - val_loss: 0.0396\n",
            "Epoch 120/150\n",
            "4/4 [==============================] - 5s 1s/step - loss: 0.0396 - val_loss: 0.0396\n",
            "Epoch 121/150\n",
            "4/4 [==============================] - 5s 1s/step - loss: 0.0395 - val_loss: 0.0395\n",
            "Epoch 122/150\n",
            "4/4 [==============================] - 5s 1s/step - loss: 0.0394 - val_loss: 0.0394\n",
            "Epoch 123/150\n",
            "4/4 [==============================] - 5s 1s/step - loss: 0.0394 - val_loss: 0.0394\n",
            "Epoch 124/150\n",
            "4/4 [==============================] - 5s 1s/step - loss: 0.0393 - val_loss: 0.0393\n",
            "Epoch 125/150\n",
            "4/4 [==============================] - 5s 1s/step - loss: 0.0392 - val_loss: 0.0392\n",
            "Epoch 126/150\n",
            "4/4 [==============================] - 5s 1s/step - loss: 0.0392 - val_loss: 0.0392\n",
            "Epoch 127/150\n",
            "4/4 [==============================] - 5s 1s/step - loss: 0.0391 - val_loss: 0.0391\n",
            "Epoch 128/150\n",
            "4/4 [==============================] - 5s 1s/step - loss: 0.0391 - val_loss: 0.0391\n",
            "Epoch 129/150\n",
            "4/4 [==============================] - 5s 1s/step - loss: 0.0390 - val_loss: 0.0390\n",
            "Epoch 130/150\n",
            "4/4 [==============================] - 5s 1s/step - loss: 0.0390 - val_loss: 0.0390\n",
            "Epoch 131/150\n",
            "4/4 [==============================] - 5s 1s/step - loss: 0.0389 - val_loss: 0.0389\n",
            "Epoch 132/150\n",
            "4/4 [==============================] - 5s 1s/step - loss: 0.0388 - val_loss: 0.0389\n",
            "Epoch 133/150\n",
            "4/4 [==============================] - 5s 1s/step - loss: 0.0388 - val_loss: 0.0388\n",
            "Epoch 134/150\n",
            "4/4 [==============================] - 5s 1s/step - loss: 0.0387 - val_loss: 0.0387\n",
            "Epoch 135/150\n",
            "4/4 [==============================] - 5s 1s/step - loss: 0.0387 - val_loss: 0.0387\n",
            "Epoch 136/150\n",
            "4/4 [==============================] - 5s 1s/step - loss: 0.0386 - val_loss: 0.0386\n",
            "Epoch 137/150\n",
            "4/4 [==============================] - 5s 1s/step - loss: 0.0386 - val_loss: 0.0386\n",
            "Epoch 138/150\n",
            "4/4 [==============================] - 5s 1s/step - loss: 0.0385 - val_loss: 0.0385\n",
            "Epoch 139/150\n",
            "4/4 [==============================] - 5s 1s/step - loss: 0.0385 - val_loss: 0.0385\n",
            "Epoch 140/150\n",
            "4/4 [==============================] - 5s 1s/step - loss: 0.0384 - val_loss: 0.0385\n",
            "Epoch 141/150\n",
            "4/4 [==============================] - 5s 1s/step - loss: 0.0384 - val_loss: 0.0384\n",
            "Epoch 142/150\n",
            "4/4 [==============================] - 5s 1s/step - loss: 0.0384 - val_loss: 0.0384\n",
            "Epoch 143/150\n",
            "4/4 [==============================] - 5s 1s/step - loss: 0.0383 - val_loss: 0.0383\n",
            "Epoch 144/150\n",
            "4/4 [==============================] - 5s 1s/step - loss: 0.0383 - val_loss: 0.0383\n",
            "Epoch 145/150\n",
            "4/4 [==============================] - 5s 1s/step - loss: 0.0382 - val_loss: 0.0382\n",
            "Epoch 146/150\n",
            "4/4 [==============================] - 5s 1s/step - loss: 0.0382 - val_loss: 0.0382\n",
            "Epoch 147/150\n",
            "4/4 [==============================] - 5s 1s/step - loss: 0.0381 - val_loss: 0.0381\n",
            "Epoch 148/150\n",
            "4/4 [==============================] - 5s 1s/step - loss: 0.0381 - val_loss: 0.0381\n",
            "Epoch 149/150\n",
            "4/4 [==============================] - 5s 1s/step - loss: 0.0381 - val_loss: 0.0381\n",
            "Epoch 150/150\n",
            "4/4 [==============================] - 5s 1s/step - loss: 0.0380 - val_loss: 0.0380\n"
          ]
        }
      ]
    },
    {
      "cell_type": "code",
      "source": [
        "# # fit the model to the data\n",
        "# nb_epochs = 150\n",
        "# batch_size = 1024\n",
        "# history = model.fit(data_train, data_train, epochs=nb_epochs, batch_size=batch_size, validation_split=0.05).history"
      ],
      "metadata": {
        "execution": {
          "iopub.status.busy": "2022-01-14T21:36:21.529098Z",
          "iopub.execute_input": "2022-01-14T21:36:21.529783Z",
          "iopub.status.idle": "2022-01-14T21:57:13.433337Z",
          "shell.execute_reply.started": "2022-01-14T21:36:21.529747Z",
          "shell.execute_reply": "2022-01-14T21:57:13.432605Z"
        },
        "trusted": true,
        "id": "HMFL-KEhRjIK"
      },
      "execution_count": null,
      "outputs": []
    },
    {
      "cell_type": "code",
      "source": [
        "# plot the training losses\n",
        "fig, ax = plt.subplots(figsize=(8, 4), dpi=80)\n",
        "ax.plot(history['loss'], 'b', label='Train', linewidth=1)\n",
        "ax.plot(history['val_loss'], 'r', label='Validation', linewidth=1)\n",
        "ax.set_title('Model loss[LSTM]', fontsize=16)\n",
        "ax.set_ylabel('Loss (mae)')\n",
        "ax.set_xlabel('Epoch')\n",
        "ax.grid()\n",
        "ax.set_xlim(0,150)\n",
        "ax.legend(loc='upper right')\n",
        "save_fig('LSTMa')\n",
        "plt.show()"
      ],
      "metadata": {
        "execution": {
          "iopub.status.busy": "2022-01-14T21:57:13.435514Z",
          "iopub.execute_input": "2022-01-14T21:57:13.435849Z",
          "iopub.status.idle": "2022-01-14T21:57:13.697693Z",
          "shell.execute_reply.started": "2022-01-14T21:57:13.435812Z",
          "shell.execute_reply": "2022-01-14T21:57:13.697058Z"
        },
        "trusted": true,
        "colab": {
          "base_uri": "https://localhost:8080/",
          "height": 405
        },
        "id": "T6B7fqV4RjIK",
        "outputId": "aea7a19c-62b5-4329-d049-8d271154786c"
      },
      "execution_count": null,
      "outputs": [
        {
          "output_type": "display_data",
          "data": {
            "image/png": "[encoded data removed]",
            "text/plain": [
              "<Figure size 640x320 with 1 Axes>"
            ]
          },
          "metadata": {
            "needs_background": "light"
          }
        }
      ]
    },
    {
      "cell_type": "code",
      "source": [
        "from sklearn.metrics import accuracy_score, precision_score, recall_score,f1_score\n",
        "\n",
        "def predict(model, data, threshold):\n",
        "    reconstructions = model(data)\n",
        "    loss = tf.reduce_mean(tf.math.abs(reconstructions-data), axis = [1, 2])\n",
        "    print(loss)\n",
        "    return tf.math.less(loss, threshold)\n",
        "\n",
        "def print_stats(predictions, labels):\n",
        "    print(\"Accuracy = {}\".format(accuracy_score(labels, predictions)))\n",
        "    print(\"Precision = {}\".format(precision_score(labels, predictions)))\n",
        "    print(\"Recall = {}\".format(recall_score(labels, predictions)))\n",
        "    print(\"F1 = {:.2f}\".format(f1_score(labels, predictions)))"
      ],
      "metadata": {
        "execution": {
          "iopub.status.busy": "2022-01-14T21:57:13.699035Z",
          "iopub.execute_input": "2022-01-14T21:57:13.699305Z",
          "iopub.status.idle": "2022-01-14T21:57:13.705538Z",
          "shell.execute_reply.started": "2022-01-14T21:57:13.699269Z",
          "shell.execute_reply": "2022-01-14T21:57:13.704636Z"
        },
        "trusted": true,
        "id": "NtjRsadRRjIL"
      },
      "execution_count": null,
      "outputs": []
    },
    {
      "cell_type": "code",
      "source": [
        "reconstructions = model.predict(data_train)\n",
        "loss = tf.reduce_mean(tf.math.abs(reconstructions-data_train), axis = [1, 2])\n",
        "threshold = np.mean(loss) + np.std(loss)\n",
        "print(threshold)"
      ],
      "metadata": {
        "execution": {
          "iopub.status.busy": "2022-01-14T21:57:21.531893Z",
          "iopub.execute_input": "2022-01-14T21:57:21.532151Z",
          "iopub.status.idle": "2022-01-14T21:57:42.603408Z",
          "shell.execute_reply.started": "2022-01-14T21:57:21.532118Z",
          "shell.execute_reply": "2022-01-14T21:57:42.602597Z"
        },
        "trusted": true,
        "colab": {
          "base_uri": "https://localhost:8080/"
        },
        "id": "zRCc4hDcRjIL",
        "outputId": "e0050371-c61c-4ecf-8061-4826eeedbeea"
      },
      "execution_count": null,
      "outputs": [
        {
          "output_type": "stream",
          "name": "stdout",
          "text": [
            "0.039393067\n"
          ]
        }
      ]
    },
    {
      "cell_type": "code",
      "source": [
        "reconstructions = model.predict(data_train)\n",
        "train_loss = tf.keras.losses.mae(reconstructions, data_train)\n",
        "train_loss\n"
      ],
      "metadata": {
        "colab": {
          "base_uri": "https://localhost:8080/"
        },
        "id": "526k6i3hWrF4",
        "outputId": "d4a22896-d980-4d62-cf52-250f707e4234"
      },
      "execution_count": null,
      "outputs": [
        {
          "output_type": "execute_result",
          "data": {
            "text/plain": [
              "<tf.Tensor: shape=(4063, 200), dtype=float32, numpy=\n",
              "array([[0.310314  , 0.24856366, 0.21083203, ..., 0.03824587, 0.025425  ,\n",
              "        0.05807172],\n",
              "       [0.28789276, 0.2436229 , 0.2369591 , ..., 0.03881506, 0.01933947,\n",
              "        0.0206646 ],\n",
              "       [0.32480162, 0.2771962 , 0.23593366, ..., 0.04272021, 0.02104922,\n",
              "        0.05339991],\n",
              "       ...,\n",
              "       [0.32447097, 0.26849192, 0.22415277, ..., 0.04083325, 0.05108617,\n",
              "        0.03929721],\n",
              "       [0.28877136, 0.24884701, 0.1780766 , ..., 0.0341839 , 0.04513287,\n",
              "        0.03212489],\n",
              "       [0.3037508 , 0.23720264, 0.19582763, ..., 0.0329851 , 0.01541129,\n",
              "        0.03371855]], dtype=float32)>"
            ]
          },
          "metadata": {},
          "execution_count": 136
        }
      ]
    },
    {
      "cell_type": "code",
      "source": [
        "train_loss=train_loss[:,0]\n",
        "plt.hist(train_loss[None,:], bins=50)\n",
        "plt.xlabel(\"Train loss[LSTM]\")\n",
        "plt.ylabel(\"No of examples\")\n",
        "plt.title(\"correct data\")\n",
        "plt.show()"
      ],
      "metadata": {
        "colab": {
          "base_uri": "https://localhost:8080/",
          "height": 295
        },
        "id": "ntzkPT9wiEF0",
        "outputId": "61a69e8f-b211-45e7-984c-bf3cf58bea74"
      },
      "execution_count": null,
      "outputs": [
        {
          "output_type": "display_data",
          "data": {
            "image/png": "[encoded data removed]",
            "text/plain": [
              "<Figure size 432x288 with 1 Axes>"
            ]
          },
          "metadata": {
            "needs_background": "light"
          }
        }
      ]
    },
    {
      "cell_type": "code",
      "source": [
        "np.save('anomoly_loss_LSTM',train_loss)"
      ],
      "metadata": {
        "id": "zDtSf1WvE5Hx"
      },
      "execution_count": null,
      "outputs": []
    },
    {
      "cell_type": "code",
      "source": [
        "reconstructions = model.predict(anomoly_data)\n",
        "train_loss = tf.keras.losses.mae(reconstructions, anomoly_data)\n",
        "\n"
      ],
      "metadata": {
        "id": "U82ALlVoidGw"
      },
      "execution_count": null,
      "outputs": []
    },
    {
      "cell_type": "code",
      "source": [
        "train_loss=train_loss[:,0]\n",
        "plt.hist(train_loss[None,:], bins=50)\n",
        "plt.xlabel(\"Train loss[LSTM]\")\n",
        "plt.ylabel(\"No of examples\")\n",
        "plt.title(\"anomoly data\")\n",
        "\n",
        "plt.show()"
      ],
      "metadata": {
        "colab": {
          "base_uri": "https://localhost:8080/",
          "height": 295
        },
        "outputId": "f49091cf-aa06-4cfa-e3ce-af6301268753",
        "id": "9n17wRrUidGz"
      },
      "execution_count": null,
      "outputs": [
        {
          "output_type": "display_data",
          "data": {
            "image/png": "[encoded data removed]",
            "text/plain": [
              "<Figure size 432x288 with 1 Axes>"
            ]
          },
          "metadata": {
            "needs_background": "light"
          }
        }
      ]
    },
    {
      "cell_type": "code",
      "source": [
        "preds = predict(model, test, threshold)\n",
        "print_stats(preds, label.astype(bool))"
      ],
      "metadata": {
        "execution": {
          "iopub.status.busy": "2022-01-14T21:57:42.604827Z",
          "iopub.execute_input": "2022-01-14T21:57:42.605551Z",
          "iopub.status.idle": "2022-01-14T21:57:43.667800Z",
          "shell.execute_reply.started": "2022-01-14T21:57:42.605513Z",
          "shell.execute_reply": "2022-01-14T21:57:43.667120Z"
        },
        "trusted": true,
        "colab": {
          "base_uri": "https://localhost:8080/"
        },
        "id": "aiZe-cI5RjIM",
        "outputId": "fd17d337-ee51-4f6a-aaf8-7ab173987967"
      },
      "execution_count": null,
      "outputs": [
        {
          "output_type": "stream",
          "name": "stdout",
          "text": [
            "tf.Tensor([0.0421077  0.03486752 0.04431173 ... 0.03984785 0.03755634 0.03566932], shape=(2000,), dtype=float32)\n",
            "Accuracy = 0.812\n",
            "Precision = 0.793233082706767\n",
            "Recall = 0.844\n",
            "F1 = 0.82\n"
          ]
        }
      ]
    },
    {
      "cell_type": "markdown",
      "source": [
        "# **CNN**"
      ],
      "metadata": {
        "id": "1MN1kH6GJtk2"
      }
    },
    {
      "cell_type": "code",
      "source": [
        ""
      ],
      "metadata": {
        "id": "mlkK8uW6KB9q"
      },
      "execution_count": null,
      "outputs": []
    },
    {
      "cell_type": "code",
      "source": [
        "from tensorflow.keras.layers import Conv1D, Conv1DTranspose, UpSampling1D, MaxPooling1D, AveragePooling1D\n",
        "\n",
        "# define the autoencoder network model\n",
        "def autoencoder_model(X):\n",
        "    inputs = Input(shape=(X.shape[1], X.shape[2]))\n",
        "    x = Conv1D(128,3, activation='relu', dilation_rate=2)(inputs)\n",
        "    x2 = Conv1D(64,3, activation='relu', dilation_rate=2)(x)\n",
        "    x3 = Conv1D(32,3, activation='relu', dilation_rate=2)(x2)\n",
        "\n",
        "    d3 = Conv1DTranspose(32 ,3,activation='relu', dilation_rate=2)(x3)\n",
        "    d4 = Conv1DTranspose(64,3,activation='relu', dilation_rate=2)(d3)\n",
        "    d5 = Conv1DTranspose(128,3,activation='relu', dilation_rate=2)(d4)\n",
        "    \n",
        "    decoded = Conv1D(4,1,strides=1, activation='sigmoid')(d5)\n",
        "    model= Model(inputs, decoded)\n",
        "    return model"
      ],
      "metadata": {
        "execution": {
          "iopub.status.busy": "2022-01-16T10:28:38.035851Z",
          "iopub.execute_input": "2022-01-16T10:28:38.036124Z",
          "iopub.status.idle": "2022-01-16T10:28:38.045921Z",
          "shell.execute_reply.started": "2022-01-16T10:28:38.036080Z",
          "shell.execute_reply": "2022-01-16T10:28:38.045033Z"
        },
        "trusted": true,
        "id": "QveoBKyOzjMT"
      },
      "execution_count": null,
      "outputs": []
    },
    {
      "cell_type": "code",
      "source": [
        "model = autoencoder_model(data_train)\n",
        "model.compile(optimizer='adam', loss='mae')\n",
        "model.summary()"
      ],
      "metadata": {
        "execution": {
          "iopub.status.busy": "2022-01-16T10:28:41.803273Z",
          "iopub.execute_input": "2022-01-16T10:28:41.804095Z",
          "iopub.status.idle": "2022-01-16T10:28:41.920182Z",
          "shell.execute_reply.started": "2022-01-16T10:28:41.804033Z",
          "shell.execute_reply": "2022-01-16T10:28:41.919481Z"
        },
        "trusted": true,
        "id": "gKSx8khbzjMT",
        "colab": {
          "base_uri": "https://localhost:8080/"
        },
        "outputId": "2591d3b9-5427-41a7-80e7-7c59d085b31e"
      },
      "execution_count": null,
      "outputs": [
        {
          "output_type": "stream",
          "name": "stdout",
          "text": [
            "Model: \"model_6\"\n",
            "_________________________________________________________________\n",
            " Layer (type)                Output Shape              Param #   \n",
            "=================================================================\n",
            " input_7 (InputLayer)        [(None, 200, 4)]          0         \n",
            "                                                                 \n",
            " conv1d (Conv1D)             (None, 196, 128)          1664      \n",
            "                                                                 \n",
            " conv1d_1 (Conv1D)           (None, 192, 64)           24640     \n",
            "                                                                 \n",
            " conv1d_2 (Conv1D)           (None, 188, 32)           6176      \n",
            "                                                                 \n",
            " conv1d_transpose (Conv1DTra  (None, 192, 32)          3104      \n",
            " nspose)                                                         \n",
            "                                                                 \n",
            " conv1d_transpose_1 (Conv1DT  (None, 196, 64)          6208      \n",
            " ranspose)                                                       \n",
            "                                                                 \n",
            " conv1d_transpose_2 (Conv1DT  (None, 200, 128)         24704     \n",
            " ranspose)                                                       \n",
            "                                                                 \n",
            " conv1d_3 (Conv1D)           (None, 200, 4)            516       \n",
            "                                                                 \n",
            "=================================================================\n",
            "Total params: 67,012\n",
            "Trainable params: 67,012\n",
            "Non-trainable params: 0\n",
            "_________________________________________________________________\n"
          ]
        }
      ]
    },
    {
      "cell_type": "code",
      "source": [
        "from tensorflow.keras.layers import Conv1D, Conv1DTranspose, UpSampling1D, MaxPooling1D, AveragePooling1D\n",
        "\n",
        "inputs = Input(shape=(200, 4))\n",
        "x = Conv1D(128,3, activation='relu', dilation_rate=2)(inputs)\n",
        "x2 = Conv1D(64,3, activation='relu', dilation_rate=2)(x)\n",
        "x3 = Conv1D(32,3, activation='relu', dilation_rate=2)(x2)\n",
        "\n",
        "d3 = Conv1DTranspose(32 ,3,activation='relu', dilation_rate=2)(x3)\n",
        "d4 = Conv1DTranspose(64,3,activation='relu', dilation_rate=2)(d3)\n",
        "d5 = Conv1DTranspose(128,3,activation='relu', dilation_rate=2)(d4)\n",
        "\n",
        "decoded = Conv1D(4,1,strides=1, activation='sigmoid')(d5)\n",
        "model= Model(inputs, decoded)\n",
        "model.compile(optimizer='adam', loss='mae')\n",
        "model.summary()"
      ],
      "metadata": {
        "colab": {
          "base_uri": "https://localhost:8080/"
        },
        "id": "ZxoSBvLGv9TY",
        "outputId": "58b933f5-8c21-4174-ac90-a17244f7df84"
      },
      "execution_count": null,
      "outputs": [
        {
          "output_type": "stream",
          "name": "stdout",
          "text": [
            "Model: \"model_7\"\n",
            "_________________________________________________________________\n",
            " Layer (type)                Output Shape              Param #   \n",
            "=================================================================\n",
            " input_8 (InputLayer)        [(None, 200, 4)]          0         \n",
            "                                                                 \n",
            " conv1d_4 (Conv1D)           (None, 196, 128)          1664      \n",
            "                                                                 \n",
            " conv1d_5 (Conv1D)           (None, 192, 64)           24640     \n",
            "                                                                 \n",
            " conv1d_6 (Conv1D)           (None, 188, 32)           6176      \n",
            "                                                                 \n",
            " conv1d_transpose_3 (Conv1DT  (None, 192, 32)          3104      \n",
            " ranspose)                                                       \n",
            "                                                                 \n",
            " conv1d_transpose_4 (Conv1DT  (None, 196, 64)          6208      \n",
            " ranspose)                                                       \n",
            "                                                                 \n",
            " conv1d_transpose_5 (Conv1DT  (None, 200, 128)         24704     \n",
            " ranspose)                                                       \n",
            "                                                                 \n",
            " conv1d_7 (Conv1D)           (None, 200, 4)            516       \n",
            "                                                                 \n",
            "=================================================================\n",
            "Total params: 67,012\n",
            "Trainable params: 67,012\n",
            "Non-trainable params: 0\n",
            "_________________________________________________________________\n"
          ]
        }
      ]
    },
    {
      "cell_type": "code",
      "source": [
        "# fit the model to the data\n",
        "nb_epochs = 150\n",
        "batch_size = 1024\n",
        "historycnn = model.fit(data_train, data_train, epochs=nb_epochs, batch_size=batch_size, validation_split=0.05).history"
      ],
      "metadata": {
        "execution": {
          "iopub.status.busy": "2022-01-16T10:28:46.129070Z",
          "iopub.execute_input": "2022-01-16T10:28:46.129622Z",
          "iopub.status.idle": "2022-01-16T10:29:28.194884Z",
          "shell.execute_reply.started": "2022-01-16T10:28:46.129584Z",
          "shell.execute_reply": "2022-01-16T10:29:28.194144Z"
        },
        "trusted": true,
        "id": "A2mbjZ-1zjMU",
        "colab": {
          "base_uri": "https://localhost:8080/"
        },
        "outputId": "ef463020-3507-4483-80d2-e647d987ddc9"
      },
      "execution_count": null,
      "outputs": [
        {
          "output_type": "stream",
          "name": "stdout",
          "text": [
            "Epoch 1/150\n",
            "4/4 [==============================] - 9s 464ms/step - loss: 0.0327 - val_loss: 0.0324\n",
            "Epoch 2/150\n",
            "4/4 [==============================] - 0s 86ms/step - loss: 0.0324 - val_loss: 0.0322\n",
            "Epoch 3/150\n",
            "4/4 [==============================] - 0s 84ms/step - loss: 0.0322 - val_loss: 0.0320\n",
            "Epoch 4/150\n",
            "4/4 [==============================] - 0s 86ms/step - loss: 0.0318 - val_loss: 0.0315\n",
            "Epoch 5/150\n",
            "4/4 [==============================] - 0s 85ms/step - loss: 0.0313 - val_loss: 0.0307\n",
            "Epoch 6/150\n",
            "4/4 [==============================] - 0s 86ms/step - loss: 0.0304 - val_loss: 0.0295\n",
            "Epoch 7/150\n",
            "4/4 [==============================] - 0s 86ms/step - loss: 0.0292 - val_loss: 0.0281\n",
            "Epoch 8/150\n",
            "4/4 [==============================] - 0s 87ms/step - loss: 0.0278 - val_loss: 0.0268\n",
            "Epoch 9/150\n",
            "4/4 [==============================] - 0s 88ms/step - loss: 0.0265 - val_loss: 0.0257\n",
            "Epoch 10/150\n",
            "4/4 [==============================] - 0s 87ms/step - loss: 0.0254 - val_loss: 0.0247\n",
            "Epoch 11/150\n",
            "4/4 [==============================] - 0s 86ms/step - loss: 0.0248 - val_loss: 0.0232\n",
            "Epoch 12/150\n",
            "4/4 [==============================] - 0s 86ms/step - loss: 0.0236 - val_loss: 0.0223\n",
            "Epoch 13/150\n",
            "4/4 [==============================] - 0s 86ms/step - loss: 0.0225 - val_loss: 0.0216\n",
            "Epoch 14/150\n",
            "4/4 [==============================] - 0s 87ms/step - loss: 0.0218 - val_loss: 0.0204\n",
            "Epoch 15/150\n",
            "4/4 [==============================] - 0s 87ms/step - loss: 0.0211 - val_loss: 0.0216\n",
            "Epoch 16/150\n",
            "4/4 [==============================] - 0s 86ms/step - loss: 0.0204 - val_loss: 0.0209\n",
            "Epoch 17/150\n",
            "4/4 [==============================] - 0s 87ms/step - loss: 0.0200 - val_loss: 0.0188\n",
            "Epoch 18/150\n",
            "4/4 [==============================] - 0s 87ms/step - loss: 0.0196 - val_loss: 0.0182\n",
            "Epoch 19/150\n",
            "4/4 [==============================] - 0s 88ms/step - loss: 0.0188 - val_loss: 0.0186\n",
            "Epoch 20/150\n",
            "4/4 [==============================] - 0s 90ms/step - loss: 0.0180 - val_loss: 0.0177\n",
            "Epoch 21/150\n",
            "4/4 [==============================] - 0s 87ms/step - loss: 0.0185 - val_loss: 0.0169\n",
            "Epoch 22/150\n",
            "4/4 [==============================] - 0s 87ms/step - loss: 0.0177 - val_loss: 0.0173\n",
            "Epoch 23/150\n",
            "4/4 [==============================] - 0s 89ms/step - loss: 0.0173 - val_loss: 0.0178\n",
            "Epoch 24/150\n",
            "4/4 [==============================] - 0s 87ms/step - loss: 0.0174 - val_loss: 0.0165\n",
            "Epoch 25/150\n",
            "4/4 [==============================] - 0s 87ms/step - loss: 0.0170 - val_loss: 0.0159\n",
            "Epoch 26/150\n",
            "4/4 [==============================] - 0s 87ms/step - loss: 0.0160 - val_loss: 0.0175\n",
            "Epoch 27/150\n",
            "4/4 [==============================] - 0s 87ms/step - loss: 0.0167 - val_loss: 0.0173\n",
            "Epoch 28/150\n",
            "4/4 [==============================] - 0s 86ms/step - loss: 0.0171 - val_loss: 0.0164\n",
            "Epoch 29/150\n",
            "4/4 [==============================] - 0s 87ms/step - loss: 0.0163 - val_loss: 0.0160\n",
            "Epoch 30/150\n",
            "4/4 [==============================] - 0s 87ms/step - loss: 0.0154 - val_loss: 0.0149\n",
            "Epoch 31/150\n",
            "4/4 [==============================] - 0s 87ms/step - loss: 0.0157 - val_loss: 0.0150\n",
            "Epoch 32/150\n",
            "4/4 [==============================] - 0s 88ms/step - loss: 0.0148 - val_loss: 0.0146\n",
            "Epoch 33/150\n",
            "4/4 [==============================] - 0s 87ms/step - loss: 0.0151 - val_loss: 0.0140\n",
            "Epoch 34/150\n",
            "4/4 [==============================] - 0s 88ms/step - loss: 0.0149 - val_loss: 0.0155\n",
            "Epoch 35/150\n",
            "4/4 [==============================] - 0s 88ms/step - loss: 0.0148 - val_loss: 0.0140\n",
            "Epoch 36/150\n",
            "4/4 [==============================] - 0s 87ms/step - loss: 0.0141 - val_loss: 0.0143\n",
            "Epoch 37/150\n",
            "4/4 [==============================] - 0s 87ms/step - loss: 0.0151 - val_loss: 0.0129\n",
            "Epoch 38/150\n",
            "4/4 [==============================] - 0s 87ms/step - loss: 0.0141 - val_loss: 0.0134\n",
            "Epoch 39/150\n",
            "4/4 [==============================] - 0s 87ms/step - loss: 0.0137 - val_loss: 0.0137\n",
            "Epoch 40/150\n",
            "4/4 [==============================] - 0s 86ms/step - loss: 0.0133 - val_loss: 0.0128\n",
            "Epoch 41/150\n",
            "4/4 [==============================] - 0s 89ms/step - loss: 0.0127 - val_loss: 0.0123\n",
            "Epoch 42/150\n",
            "4/4 [==============================] - 0s 88ms/step - loss: 0.0128 - val_loss: 0.0134\n",
            "Epoch 43/150\n",
            "4/4 [==============================] - 0s 87ms/step - loss: 0.0136 - val_loss: 0.0128\n",
            "Epoch 44/150\n",
            "4/4 [==============================] - 0s 88ms/step - loss: 0.0135 - val_loss: 0.0117\n",
            "Epoch 45/150\n",
            "4/4 [==============================] - 0s 86ms/step - loss: 0.0122 - val_loss: 0.0117\n",
            "Epoch 46/150\n",
            "4/4 [==============================] - 0s 86ms/step - loss: 0.0125 - val_loss: 0.0121\n",
            "Epoch 47/150\n",
            "4/4 [==============================] - 0s 86ms/step - loss: 0.0120 - val_loss: 0.0135\n",
            "Epoch 48/150\n",
            "4/4 [==============================] - 0s 88ms/step - loss: 0.0124 - val_loss: 0.0113\n",
            "Epoch 49/150\n",
            "4/4 [==============================] - 0s 86ms/step - loss: 0.0119 - val_loss: 0.0118\n",
            "Epoch 50/150\n",
            "4/4 [==============================] - 0s 86ms/step - loss: 0.0119 - val_loss: 0.0115\n",
            "Epoch 51/150\n",
            "4/4 [==============================] - 0s 85ms/step - loss: 0.0117 - val_loss: 0.0114\n",
            "Epoch 52/150\n",
            "4/4 [==============================] - 0s 87ms/step - loss: 0.0115 - val_loss: 0.0120\n",
            "Epoch 53/150\n",
            "4/4 [==============================] - 0s 87ms/step - loss: 0.0122 - val_loss: 0.0131\n",
            "Epoch 54/150\n",
            "4/4 [==============================] - 0s 86ms/step - loss: 0.0120 - val_loss: 0.0114\n",
            "Epoch 55/150\n",
            "4/4 [==============================] - 0s 87ms/step - loss: 0.0114 - val_loss: 0.0125\n",
            "Epoch 56/150\n",
            "4/4 [==============================] - 0s 88ms/step - loss: 0.0113 - val_loss: 0.0112\n",
            "Epoch 57/150\n",
            "4/4 [==============================] - 0s 87ms/step - loss: 0.0111 - val_loss: 0.0111\n",
            "Epoch 58/150\n",
            "4/4 [==============================] - 0s 86ms/step - loss: 0.0107 - val_loss: 0.0101\n",
            "Epoch 59/150\n",
            "4/4 [==============================] - 0s 87ms/step - loss: 0.0111 - val_loss: 0.0125\n",
            "Epoch 60/150\n",
            "4/4 [==============================] - 0s 87ms/step - loss: 0.0108 - val_loss: 0.0102\n",
            "Epoch 61/150\n",
            "4/4 [==============================] - 0s 87ms/step - loss: 0.0108 - val_loss: 0.0102\n",
            "Epoch 62/150\n",
            "4/4 [==============================] - 0s 86ms/step - loss: 0.0099 - val_loss: 0.0109\n",
            "Epoch 63/150\n",
            "4/4 [==============================] - 0s 86ms/step - loss: 0.0119 - val_loss: 0.0094\n",
            "Epoch 64/150\n",
            "4/4 [==============================] - 0s 87ms/step - loss: 0.0103 - val_loss: 0.0102\n",
            "Epoch 65/150\n",
            "4/4 [==============================] - 0s 88ms/step - loss: 0.0106 - val_loss: 0.0102\n",
            "Epoch 66/150\n",
            "4/4 [==============================] - 0s 90ms/step - loss: 0.0100 - val_loss: 0.0102\n",
            "Epoch 67/150\n",
            "4/4 [==============================] - 0s 89ms/step - loss: 0.0095 - val_loss: 0.0094\n",
            "Epoch 68/150\n",
            "4/4 [==============================] - 0s 92ms/step - loss: 0.0093 - val_loss: 0.0084\n",
            "Epoch 69/150\n",
            "4/4 [==============================] - 0s 88ms/step - loss: 0.0090 - val_loss: 0.0096\n",
            "Epoch 70/150\n",
            "4/4 [==============================] - 0s 89ms/step - loss: 0.0088 - val_loss: 0.0087\n",
            "Epoch 71/150\n",
            "4/4 [==============================] - 0s 88ms/step - loss: 0.0098 - val_loss: 0.0089\n",
            "Epoch 72/150\n",
            "4/4 [==============================] - 0s 89ms/step - loss: 0.0106 - val_loss: 0.0082\n",
            "Epoch 73/150\n",
            "4/4 [==============================] - 0s 89ms/step - loss: 0.0092 - val_loss: 0.0092\n",
            "Epoch 74/150\n",
            "4/4 [==============================] - 0s 89ms/step - loss: 0.0086 - val_loss: 0.0088\n",
            "Epoch 75/150\n",
            "4/4 [==============================] - 0s 87ms/step - loss: 0.0082 - val_loss: 0.0078\n",
            "Epoch 76/150\n",
            "4/4 [==============================] - 0s 88ms/step - loss: 0.0085 - val_loss: 0.0079\n",
            "Epoch 77/150\n",
            "4/4 [==============================] - 0s 88ms/step - loss: 0.0077 - val_loss: 0.0077\n",
            "Epoch 78/150\n",
            "4/4 [==============================] - 0s 87ms/step - loss: 0.0087 - val_loss: 0.0084\n",
            "Epoch 79/150\n",
            "4/4 [==============================] - 0s 89ms/step - loss: 0.0085 - val_loss: 0.0077\n",
            "Epoch 80/150\n",
            "4/4 [==============================] - 0s 90ms/step - loss: 0.0076 - val_loss: 0.0084\n",
            "Epoch 81/150\n",
            "4/4 [==============================] - 0s 88ms/step - loss: 0.0092 - val_loss: 0.0090\n",
            "Epoch 82/150\n",
            "4/4 [==============================] - 0s 87ms/step - loss: 0.0085 - val_loss: 0.0080\n",
            "Epoch 83/150\n",
            "4/4 [==============================] - 0s 88ms/step - loss: 0.0079 - val_loss: 0.0078\n",
            "Epoch 84/150\n",
            "4/4 [==============================] - 0s 89ms/step - loss: 0.0081 - val_loss: 0.0079\n",
            "Epoch 85/150\n",
            "4/4 [==============================] - 0s 87ms/step - loss: 0.0079 - val_loss: 0.0078\n",
            "Epoch 86/150\n",
            "4/4 [==============================] - 0s 87ms/step - loss: 0.0081 - val_loss: 0.0081\n",
            "Epoch 87/150\n",
            "4/4 [==============================] - 0s 89ms/step - loss: 0.0084 - val_loss: 0.0074\n",
            "Epoch 88/150\n",
            "4/4 [==============================] - 0s 88ms/step - loss: 0.0073 - val_loss: 0.0073\n",
            "Epoch 89/150\n",
            "4/4 [==============================] - 0s 88ms/step - loss: 0.0077 - val_loss: 0.0076\n",
            "Epoch 90/150\n",
            "4/4 [==============================] - 0s 89ms/step - loss: 0.0077 - val_loss: 0.0077\n",
            "Epoch 91/150\n",
            "4/4 [==============================] - 0s 88ms/step - loss: 0.0076 - val_loss: 0.0089\n",
            "Epoch 92/150\n",
            "4/4 [==============================] - 0s 87ms/step - loss: 0.0085 - val_loss: 0.0078\n",
            "Epoch 93/150\n",
            "4/4 [==============================] - 0s 88ms/step - loss: 0.0077 - val_loss: 0.0079\n",
            "Epoch 94/150\n",
            "4/4 [==============================] - 0s 90ms/step - loss: 0.0078 - val_loss: 0.0073\n",
            "Epoch 95/150\n",
            "4/4 [==============================] - 0s 88ms/step - loss: 0.0075 - val_loss: 0.0082\n",
            "Epoch 96/150\n",
            "4/4 [==============================] - 0s 90ms/step - loss: 0.0079 - val_loss: 0.0069\n",
            "Epoch 97/150\n",
            "4/4 [==============================] - 0s 89ms/step - loss: 0.0069 - val_loss: 0.0070\n",
            "Epoch 98/150\n",
            "4/4 [==============================] - 0s 87ms/step - loss: 0.0073 - val_loss: 0.0077\n",
            "Epoch 99/150\n",
            "4/4 [==============================] - 0s 88ms/step - loss: 0.0074 - val_loss: 0.0070\n",
            "Epoch 100/150\n",
            "4/4 [==============================] - 0s 88ms/step - loss: 0.0073 - val_loss: 0.0075\n",
            "Epoch 101/150\n",
            "4/4 [==============================] - 0s 90ms/step - loss: 0.0074 - val_loss: 0.0070\n",
            "Epoch 102/150\n",
            "4/4 [==============================] - 0s 89ms/step - loss: 0.0081 - val_loss: 0.0086\n",
            "Epoch 103/150\n",
            "4/4 [==============================] - 0s 89ms/step - loss: 0.0075 - val_loss: 0.0067\n",
            "Epoch 104/150\n",
            "4/4 [==============================] - 0s 93ms/step - loss: 0.0075 - val_loss: 0.0068\n",
            "Epoch 105/150\n",
            "4/4 [==============================] - 0s 87ms/step - loss: 0.0071 - val_loss: 0.0069\n",
            "Epoch 106/150\n",
            "4/4 [==============================] - 0s 90ms/step - loss: 0.0069 - val_loss: 0.0083\n",
            "Epoch 107/150\n",
            "4/4 [==============================] - 0s 88ms/step - loss: 0.0076 - val_loss: 0.0070\n",
            "Epoch 108/150\n",
            "4/4 [==============================] - 0s 87ms/step - loss: 0.0071 - val_loss: 0.0077\n",
            "Epoch 109/150\n",
            "4/4 [==============================] - 0s 88ms/step - loss: 0.0073 - val_loss: 0.0068\n",
            "Epoch 110/150\n",
            "4/4 [==============================] - 0s 89ms/step - loss: 0.0074 - val_loss: 0.0071\n",
            "Epoch 111/150\n",
            "4/4 [==============================] - 0s 90ms/step - loss: 0.0067 - val_loss: 0.0066\n",
            "Epoch 112/150\n",
            "4/4 [==============================] - 0s 89ms/step - loss: 0.0079 - val_loss: 0.0073\n",
            "Epoch 113/150\n",
            "4/4 [==============================] - 0s 89ms/step - loss: 0.0070 - val_loss: 0.0070\n",
            "Epoch 114/150\n",
            "4/4 [==============================] - 0s 89ms/step - loss: 0.0071 - val_loss: 0.0071\n",
            "Epoch 115/150\n",
            "4/4 [==============================] - 0s 90ms/step - loss: 0.0072 - val_loss: 0.0070\n",
            "Epoch 116/150\n",
            "4/4 [==============================] - 0s 90ms/step - loss: 0.0069 - val_loss: 0.0079\n",
            "Epoch 117/150\n",
            "4/4 [==============================] - 0s 90ms/step - loss: 0.0075 - val_loss: 0.0068\n",
            "Epoch 118/150\n",
            "4/4 [==============================] - 0s 89ms/step - loss: 0.0068 - val_loss: 0.0068\n",
            "Epoch 119/150\n",
            "4/4 [==============================] - 0s 90ms/step - loss: 0.0068 - val_loss: 0.0067\n",
            "Epoch 120/150\n",
            "4/4 [==============================] - 0s 90ms/step - loss: 0.0076 - val_loss: 0.0073\n",
            "Epoch 121/150\n",
            "4/4 [==============================] - 0s 91ms/step - loss: 0.0066 - val_loss: 0.0069\n",
            "Epoch 122/150\n",
            "4/4 [==============================] - 0s 90ms/step - loss: 0.0074 - val_loss: 0.0068\n",
            "Epoch 123/150\n",
            "4/4 [==============================] - 0s 89ms/step - loss: 0.0067 - val_loss: 0.0066\n",
            "Epoch 124/150\n",
            "4/4 [==============================] - 0s 90ms/step - loss: 0.0065 - val_loss: 0.0068\n",
            "Epoch 125/150\n",
            "4/4 [==============================] - 0s 88ms/step - loss: 0.0074 - val_loss: 0.0071\n",
            "Epoch 126/150\n",
            "4/4 [==============================] - 0s 90ms/step - loss: 0.0069 - val_loss: 0.0074\n",
            "Epoch 127/150\n",
            "4/4 [==============================] - 0s 89ms/step - loss: 0.0073 - val_loss: 0.0066\n",
            "Epoch 128/150\n",
            "4/4 [==============================] - 0s 89ms/step - loss: 0.0066 - val_loss: 0.0066\n",
            "Epoch 129/150\n",
            "4/4 [==============================] - 0s 90ms/step - loss: 0.0074 - val_loss: 0.0069\n",
            "Epoch 130/150\n",
            "4/4 [==============================] - 0s 92ms/step - loss: 0.0064 - val_loss: 0.0062\n",
            "Epoch 131/150\n",
            "4/4 [==============================] - 0s 89ms/step - loss: 0.0066 - val_loss: 0.0075\n",
            "Epoch 132/150\n",
            "4/4 [==============================] - 0s 90ms/step - loss: 0.0068 - val_loss: 0.0063\n",
            "Epoch 133/150\n",
            "4/4 [==============================] - 0s 89ms/step - loss: 0.0065 - val_loss: 0.0074\n",
            "Epoch 134/150\n",
            "4/4 [==============================] - 0s 89ms/step - loss: 0.0074 - val_loss: 0.0067\n",
            "Epoch 135/150\n",
            "4/4 [==============================] - 0s 90ms/step - loss: 0.0066 - val_loss: 0.0065\n",
            "Epoch 136/150\n",
            "4/4 [==============================] - 0s 90ms/step - loss: 0.0065 - val_loss: 0.0065\n",
            "Epoch 137/150\n",
            "4/4 [==============================] - 0s 89ms/step - loss: 0.0067 - val_loss: 0.0065\n",
            "Epoch 138/150\n",
            "4/4 [==============================] - 0s 90ms/step - loss: 0.0065 - val_loss: 0.0071\n",
            "Epoch 139/150\n",
            "4/4 [==============================] - 0s 92ms/step - loss: 0.0081 - val_loss: 0.0065\n",
            "Epoch 140/150\n",
            "4/4 [==============================] - 0s 90ms/step - loss: 0.0066 - val_loss: 0.0061\n",
            "Epoch 141/150\n",
            "4/4 [==============================] - 0s 91ms/step - loss: 0.0067 - val_loss: 0.0065\n",
            "Epoch 142/150\n",
            "4/4 [==============================] - 0s 90ms/step - loss: 0.0067 - val_loss: 0.0065\n",
            "Epoch 143/150\n",
            "4/4 [==============================] - 0s 93ms/step - loss: 0.0065 - val_loss: 0.0070\n",
            "Epoch 144/150\n",
            "4/4 [==============================] - 0s 91ms/step - loss: 0.0067 - val_loss: 0.0062\n",
            "Epoch 145/150\n",
            "4/4 [==============================] - 0s 89ms/step - loss: 0.0067 - val_loss: 0.0076\n",
            "Epoch 146/150\n",
            "4/4 [==============================] - 0s 92ms/step - loss: 0.0067 - val_loss: 0.0062\n",
            "Epoch 147/150\n",
            "4/4 [==============================] - 0s 90ms/step - loss: 0.0069 - val_loss: 0.0074\n",
            "Epoch 148/150\n",
            "4/4 [==============================] - 0s 91ms/step - loss: 0.0067 - val_loss: 0.0066\n",
            "Epoch 149/150\n",
            "4/4 [==============================] - 0s 90ms/step - loss: 0.0063 - val_loss: 0.0061\n",
            "Epoch 150/150\n",
            "4/4 [==============================] - 0s 90ms/step - loss: 0.0067 - val_loss: 0.0067\n"
          ]
        }
      ]
    },
    {
      "cell_type": "code",
      "source": [
        "# plot the training losses\n",
        "fig, ax = plt.subplots(figsize=(8, 4), dpi=80)\n",
        "ax.plot(historycnn['loss'], 'b', label='Train', linewidth=1)\n",
        "ax.plot(historycnn['val_loss'], 'r', label='Validation', linewidth=1)\n",
        "ax.set_title('Model loss[CNN]', fontsize=16)\n",
        "ax.set_ylabel('Loss (mae)')\n",
        "ax.set_xlabel('Epoch')\n",
        "ax.grid()\n",
        "ax.set_xlim(0,150)\n",
        "ax.legend(loc='upper right')\n",
        "save_fig('CNNa')\n",
        "plt.show()"
      ],
      "metadata": {
        "execution": {
          "iopub.status.busy": "2022-01-16T10:29:31.883209Z",
          "iopub.execute_input": "2022-01-16T10:29:31.883474Z",
          "iopub.status.idle": "2022-01-16T10:29:32.157215Z",
          "shell.execute_reply.started": "2022-01-16T10:29:31.883443Z",
          "shell.execute_reply": "2022-01-16T10:29:32.156165Z"
        },
        "trusted": true,
        "id": "bMKsCElzzjMU"
      },
      "execution_count": null,
      "outputs": []
    },
    {
      "cell_type": "code",
      "source": [
        "reconstructions = model.predict(data_train)\n",
        "loss = tf.reduce_mean(tf.math.abs(reconstructions-data_train), axis = [1, 2])\n",
        "threshold = np.mean(loss) + np.std(loss)\n",
        "print(threshold)"
      ],
      "metadata": {
        "execution": {
          "iopub.status.busy": "2022-01-16T10:29:38.780380Z",
          "iopub.execute_input": "2022-01-16T10:29:38.780936Z",
          "iopub.status.idle": "2022-01-16T10:29:39.186244Z",
          "shell.execute_reply.started": "2022-01-16T10:29:38.780896Z",
          "shell.execute_reply": "2022-01-16T10:29:39.185482Z"
        },
        "trusted": true,
        "id": "yYdZ2oFqzjMV"
      },
      "execution_count": null,
      "outputs": []
    },
    {
      "cell_type": "code",
      "source": [
        "label.astype(bool)"
      ],
      "metadata": {
        "execution": {
          "iopub.status.busy": "2022-01-14T20:41:51.829088Z",
          "iopub.execute_input": "2022-01-14T20:41:51.829383Z",
          "iopub.status.idle": "2022-01-14T20:41:51.836731Z",
          "shell.execute_reply.started": "2022-01-14T20:41:51.829349Z",
          "shell.execute_reply": "2022-01-14T20:41:51.835481Z"
        },
        "trusted": true,
        "id": "ReKRpkHWzjMV"
      },
      "execution_count": null,
      "outputs": []
    },
    {
      "cell_type": "code",
      "source": [
        "print(len(label))"
      ],
      "metadata": {
        "execution": {
          "iopub.status.busy": "2022-01-16T08:02:44.815Z",
          "iopub.execute_input": "2022-01-16T08:02:44.815782Z",
          "iopub.status.idle": "2022-01-16T08:02:44.820459Z",
          "shell.execute_reply.started": "2022-01-16T08:02:44.815734Z",
          "shell.execute_reply": "2022-01-16T08:02:44.81975Z"
        },
        "trusted": true,
        "id": "a_szDKoezjMV",
        "colab": {
          "base_uri": "https://localhost:8080/"
        },
        "outputId": "b519bf16-1593-4064-8dca-64d5b260951c"
      },
      "execution_count": null,
      "outputs": [
        {
          "output_type": "stream",
          "name": "stdout",
          "text": [
            "2000\n"
          ]
        }
      ]
    },
    {
      "cell_type": "code",
      "source": [
        "from sklearn.metrics import accuracy_score, precision_score, recall_score,f1_score\n",
        "\n",
        "def predict(model, data, threshold):\n",
        "    reconstructions = model(data)\n",
        "    loss = tf.reduce_mean(tf.math.abs(reconstructions-data), axis = [1, 2])\n",
        "    print(loss)\n",
        "    return tf.math.less(loss, threshold)\n",
        "\n",
        "def print_stats(predictions, labels):\n",
        "    print(\"Accuracy = {}\".format(accuracy_score(labels, predictions)))\n",
        "    print(\"Precision = {}\".format(precision_score(labels, predictions)))\n",
        "    print(\"Recall = {}\".format(recall_score(labels, predictions)))\n",
        "    print(\"F1 = {:.2f}\".format(f1_score(labels, predictions)))"
      ],
      "metadata": {
        "execution": {
          "iopub.status.busy": "2022-01-14T21:57:13.699035Z",
          "iopub.execute_input": "2022-01-14T21:57:13.699305Z",
          "iopub.status.idle": "2022-01-14T21:57:13.705538Z",
          "shell.execute_reply.started": "2022-01-14T21:57:13.699269Z",
          "shell.execute_reply": "2022-01-14T21:57:13.704636Z"
        },
        "trusted": true,
        "id": "JlytIm-7LnTz"
      },
      "execution_count": null,
      "outputs": []
    },
    {
      "cell_type": "code",
      "source": [
        "preds = predict(model, test, threshold)\n",
        "print_stats(preds, label.astype(bool))"
      ],
      "metadata": {
        "execution": {
          "iopub.status.busy": "2022-01-16T10:29:41.862547Z",
          "iopub.execute_input": "2022-01-16T10:29:41.863240Z",
          "iopub.status.idle": "2022-01-16T10:29:41.914101Z",
          "shell.execute_reply.started": "2022-01-16T10:29:41.863201Z",
          "shell.execute_reply": "2022-01-16T10:29:41.913269Z"
        },
        "trusted": true,
        "id": "0veG5A-6zjMW",
        "colab": {
          "base_uri": "https://localhost:8080/"
        },
        "outputId": "3bc4502a-a837-44b9-c572-26525bfc00af"
      },
      "execution_count": null,
      "outputs": [
        {
          "output_type": "stream",
          "name": "stdout",
          "text": [
            "tf.Tensor([0.01006191 0.00830944 0.00965022 ... 0.00701176 0.00711648 0.00606236], shape=(2000,), dtype=float32)\n",
            "Accuracy = 0.925\n",
            "Precision = 1.0\n",
            "Recall = 0.85\n",
            "F1 = 0.92\n"
          ]
        }
      ]
    },
    {
      "cell_type": "code",
      "source": [
        "reconstructions = model.predict(data_train)\n",
        "train_loss = tf.keras.losses.mae(reconstructions, data_train)\n",
        "train_loss\n"
      ],
      "metadata": {
        "colab": {
          "base_uri": "https://localhost:8080/"
        },
        "outputId": "ace20f81-9b37-4f69-88eb-efd2d891d6c0",
        "id": "P8Vo7jvsMFXe"
      },
      "execution_count": null,
      "outputs": [
        {
          "output_type": "execute_result",
          "data": {
            "text/plain": [
              "<tf.Tensor: shape=(4063, 200), dtype=float32, numpy=\n",
              "array([[0.01719257, 0.02487309, 0.01412103, ..., 0.03925057, 0.02452898,\n",
              "        0.05705339],\n",
              "       [0.0753341 , 0.01245774, 0.0399501 , ..., 0.03983868, 0.02157488,\n",
              "        0.02113621],\n",
              "       [0.01923475, 0.0325475 , 0.02034353, ..., 0.03807664, 0.02031118,\n",
              "        0.05194016],\n",
              "       ...,\n",
              "       [0.01928969, 0.03269838, 0.05324576, ..., 0.03715496, 0.05138664,\n",
              "        0.03894347],\n",
              "       [0.03861005, 0.00940617, 0.06559791, ..., 0.03022694, 0.04555445,\n",
              "        0.0324914 ],\n",
              "       [0.02016047, 0.04201731, 0.0122001 , ..., 0.02472959, 0.01465334,\n",
              "        0.03352482]], dtype=float32)>"
            ]
          },
          "metadata": {},
          "execution_count": 47
        }
      ]
    },
    {
      "cell_type": "code",
      "source": [
        "train_loss=train_loss[:,0]\n",
        "plt.hist(train_loss[None,:], bins=50)\n",
        "plt.xlabel(\"Train loss[CNN]\")\n",
        "plt.ylabel(\"No of examples\")\n",
        "plt.title(\"correct data\")\n",
        "plt.show()"
      ],
      "metadata": {
        "colab": {
          "base_uri": "https://localhost:8080/",
          "height": 301
        },
        "outputId": "d3534b22-5d50-4a03-aa3b-bd6695f38fc9",
        "id": "Asv1b_VsMMgp"
      },
      "execution_count": null,
      "outputs": [
        {
          "output_type": "display_data",
          "data": {
            "image/png": "[encoded data removed]",
            "text/plain": [
              "<Figure size 432x288 with 1 Axes>"
            ]
          },
          "metadata": {
            "needs_background": "light"
          }
        }
      ]
    },
    {
      "cell_type": "code",
      "source": [
        "reconstructions = model.predict(anomoly_data)\n",
        "train_loss = tf.keras.losses.mae(reconstructions, anomoly_data)\n",
        "\n"
      ],
      "metadata": {
        "id": "RJfmUEeiMWYq"
      },
      "execution_count": null,
      "outputs": []
    },
    {
      "cell_type": "code",
      "source": [
        "train_loss=train_loss[:,0]\n",
        "plt.hist(train_loss[None,:], bins=50)\n",
        "plt.xlabel(\"Train loss[CNN]\")\n",
        "plt.ylabel(\"No of examples\")\n",
        "plt.title(\"anomoly data\")\n",
        "plt.show()"
      ],
      "metadata": {
        "colab": {
          "base_uri": "https://localhost:8080/",
          "height": 301
        },
        "outputId": "9e8fbfdb-f9ba-4bef-8ff3-e77847fb70a3",
        "id": "GL8D0AKFMxH4"
      },
      "execution_count": null,
      "outputs": [
        {
          "output_type": "display_data",
          "data": {
            "image/png": "[encoded data removed]",
            "text/plain": [
              "<Figure size 432x288 with 1 Axes>"
            ]
          },
          "metadata": {
            "needs_background": "light"
          }
        }
      ]
    },
    {
      "cell_type": "markdown",
      "source": [
        "# EMAIL"
      ],
      "metadata": {
        "id": "BxmA82b9mucN"
      }
    },
    {
      "cell_type": "code",
      "source": [
        "import smtplib\n",
        "reconstructions = model.predict(data_train[0:1,:,:])\n",
        "loss = tf.keras.losses.mae(reconstructions, data_train[0:1,:,:])\n",
        "loss=np.mean(loss)\n",
        "if (loss>threshold):\n",
        "   server=smtplib.SMTP_SSL(\"smtp.gmail.com\",465)\n",
        "   server.login(\"arduinokntu@gmail.com\",\"xxxxxxxxx\")\n",
        "   server.sendmail(\"arduinokntu@gmail.com\",[\"najafi@kntu.ac.ir\",\"j.khorramdel96@gmail.com\"],\"this is an email from [hoseinzadeh,borhani,ghanbarzadeh] IOT group.\")"
      ],
      "metadata": {
        "id": "aG3VaL_e2p1S"
      },
      "execution_count": null,
      "outputs": []
    }
  ]
}